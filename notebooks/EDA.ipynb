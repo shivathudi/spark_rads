{
 "cells": [
  {
   "cell_type": "code",
   "execution_count": 1,
   "metadata": {
    "collapsed": true
   },
   "outputs": [],
   "source": [
    "import pandas as pd\n",
    "import numpy as np\n",
    "import matplotlib.pyplot as plt\n",
    "import seaborn as sns"
   ]
  },
  {
   "cell_type": "markdown",
   "metadata": {},
   "source": [
    "There is a total of 349,655,790 rows with about 22GB of data."
   ]
  },
  {
   "cell_type": "code",
   "execution_count": 2,
   "metadata": {
    "collapsed": false
   },
   "outputs": [],
   "source": [
    "file_name = '../data/transactions.csv'\n",
    "chunksize = 10 ** 7\n",
    "chunk_iter = pd.read_csv(file_name, chunksize=chunksize)"
   ]
  },
  {
   "cell_type": "code",
   "execution_count": 3,
   "metadata": {
    "collapsed": false
   },
   "outputs": [
    {
     "name": "stdout",
     "output_type": "stream",
     "text": [
      "<class 'pandas.core.frame.DataFrame'>\n",
      "RangeIndex: 10000000 entries, 0 to 9999999\n",
      "Data columns (total 11 columns):\n",
      "id                  int64\n",
      "chain               int64\n",
      "dept                int64\n",
      "category            int64\n",
      "company             int64\n",
      "brand               int64\n",
      "date                object\n",
      "productsize         float64\n",
      "productmeasure      object\n",
      "purchasequantity    int64\n",
      "purchaseamount      float64\n",
      "dtypes: float64(2), int64(7), object(2)\n",
      "memory usage: 839.2+ MB\n"
     ]
    }
   ],
   "source": [
    "chunk1 = chunk_iter.next()\n",
    "chunk1.info()"
   ]
  },
  {
   "cell_type": "code",
   "execution_count": 4,
   "metadata": {
    "collapsed": false
   },
   "outputs": [
    {
     "data": {
      "text/html": [
       "<div>\n",
       "<table border=\"1\" class=\"dataframe\">\n",
       "  <thead>\n",
       "    <tr style=\"text-align: right;\">\n",
       "      <th></th>\n",
       "      <th>id</th>\n",
       "      <th>chain</th>\n",
       "      <th>dept</th>\n",
       "      <th>category</th>\n",
       "      <th>company</th>\n",
       "      <th>brand</th>\n",
       "      <th>date</th>\n",
       "      <th>productsize</th>\n",
       "      <th>productmeasure</th>\n",
       "      <th>purchasequantity</th>\n",
       "      <th>purchaseamount</th>\n",
       "    </tr>\n",
       "  </thead>\n",
       "  <tbody>\n",
       "    <tr>\n",
       "      <th>0</th>\n",
       "      <td>86246</td>\n",
       "      <td>205</td>\n",
       "      <td>7</td>\n",
       "      <td>707</td>\n",
       "      <td>1078778070</td>\n",
       "      <td>12564</td>\n",
       "      <td>2012-03-02</td>\n",
       "      <td>12.0</td>\n",
       "      <td>OZ</td>\n",
       "      <td>1</td>\n",
       "      <td>7.59</td>\n",
       "    </tr>\n",
       "    <tr>\n",
       "      <th>1</th>\n",
       "      <td>86246</td>\n",
       "      <td>205</td>\n",
       "      <td>63</td>\n",
       "      <td>6319</td>\n",
       "      <td>107654575</td>\n",
       "      <td>17876</td>\n",
       "      <td>2012-03-02</td>\n",
       "      <td>64.0</td>\n",
       "      <td>OZ</td>\n",
       "      <td>1</td>\n",
       "      <td>1.59</td>\n",
       "    </tr>\n",
       "    <tr>\n",
       "      <th>2</th>\n",
       "      <td>86246</td>\n",
       "      <td>205</td>\n",
       "      <td>97</td>\n",
       "      <td>9753</td>\n",
       "      <td>1022027929</td>\n",
       "      <td>0</td>\n",
       "      <td>2012-03-02</td>\n",
       "      <td>1.0</td>\n",
       "      <td>CT</td>\n",
       "      <td>1</td>\n",
       "      <td>5.99</td>\n",
       "    </tr>\n",
       "    <tr>\n",
       "      <th>3</th>\n",
       "      <td>86246</td>\n",
       "      <td>205</td>\n",
       "      <td>25</td>\n",
       "      <td>2509</td>\n",
       "      <td>107996777</td>\n",
       "      <td>31373</td>\n",
       "      <td>2012-03-02</td>\n",
       "      <td>16.0</td>\n",
       "      <td>OZ</td>\n",
       "      <td>1</td>\n",
       "      <td>1.99</td>\n",
       "    </tr>\n",
       "    <tr>\n",
       "      <th>4</th>\n",
       "      <td>86246</td>\n",
       "      <td>205</td>\n",
       "      <td>55</td>\n",
       "      <td>5555</td>\n",
       "      <td>107684070</td>\n",
       "      <td>32094</td>\n",
       "      <td>2012-03-02</td>\n",
       "      <td>16.0</td>\n",
       "      <td>OZ</td>\n",
       "      <td>2</td>\n",
       "      <td>10.38</td>\n",
       "    </tr>\n",
       "  </tbody>\n",
       "</table>\n",
       "</div>"
      ],
      "text/plain": [
       "      id  chain  dept  category     company  brand        date  productsize  \\\n",
       "0  86246    205     7       707  1078778070  12564  2012-03-02         12.0   \n",
       "1  86246    205    63      6319   107654575  17876  2012-03-02         64.0   \n",
       "2  86246    205    97      9753  1022027929      0  2012-03-02          1.0   \n",
       "3  86246    205    25      2509   107996777  31373  2012-03-02         16.0   \n",
       "4  86246    205    55      5555   107684070  32094  2012-03-02         16.0   \n",
       "\n",
       "  productmeasure  purchasequantity  purchaseamount  \n",
       "0             OZ                 1            7.59  \n",
       "1             OZ                 1            1.59  \n",
       "2             CT                 1            5.99  \n",
       "3             OZ                 1            1.99  \n",
       "4             OZ                 2           10.38  "
      ]
     },
     "execution_count": 4,
     "metadata": {},
     "output_type": "execute_result"
    }
   ],
   "source": [
    "chunk1.head()"
   ]
  },
  {
   "cell_type": "code",
   "execution_count": 5,
   "metadata": {
    "collapsed": false
   },
   "outputs": [
    {
     "data": {
      "text/html": [
       "<div>\n",
       "<table border=\"1\" class=\"dataframe\">\n",
       "  <thead>\n",
       "    <tr style=\"text-align: right;\">\n",
       "      <th></th>\n",
       "      <th>id</th>\n",
       "      <th>chain</th>\n",
       "      <th>dept</th>\n",
       "      <th>category</th>\n",
       "      <th>company</th>\n",
       "      <th>brand</th>\n",
       "      <th>date</th>\n",
       "      <th>productsize</th>\n",
       "      <th>productmeasure</th>\n",
       "      <th>purchasequantity</th>\n",
       "      <th>purchaseamount</th>\n",
       "    </tr>\n",
       "  </thead>\n",
       "  <tbody>\n",
       "    <tr>\n",
       "      <th>9999995</th>\n",
       "      <td>126082871</td>\n",
       "      <td>18</td>\n",
       "      <td>36</td>\n",
       "      <td>3634</td>\n",
       "      <td>1078616272</td>\n",
       "      <td>7237</td>\n",
       "      <td>2012-08-31</td>\n",
       "      <td>32.0</td>\n",
       "      <td>OZ</td>\n",
       "      <td>2</td>\n",
       "      <td>3.00</td>\n",
       "    </tr>\n",
       "    <tr>\n",
       "      <th>9999996</th>\n",
       "      <td>126082871</td>\n",
       "      <td>18</td>\n",
       "      <td>6</td>\n",
       "      <td>610</td>\n",
       "      <td>107084777</td>\n",
       "      <td>11910</td>\n",
       "      <td>2012-08-31</td>\n",
       "      <td>16.0</td>\n",
       "      <td>OZ</td>\n",
       "      <td>1</td>\n",
       "      <td>2.29</td>\n",
       "    </tr>\n",
       "    <tr>\n",
       "      <th>9999997</th>\n",
       "      <td>126082871</td>\n",
       "      <td>18</td>\n",
       "      <td>56</td>\n",
       "      <td>5607</td>\n",
       "      <td>102113020</td>\n",
       "      <td>10786</td>\n",
       "      <td>2012-08-31</td>\n",
       "      <td>16.0</td>\n",
       "      <td>OZ</td>\n",
       "      <td>1</td>\n",
       "      <td>3.49</td>\n",
       "    </tr>\n",
       "    <tr>\n",
       "      <th>9999998</th>\n",
       "      <td>126082871</td>\n",
       "      <td>18</td>\n",
       "      <td>63</td>\n",
       "      <td>6321</td>\n",
       "      <td>107989373</td>\n",
       "      <td>29344</td>\n",
       "      <td>2012-08-31</td>\n",
       "      <td>10.0</td>\n",
       "      <td>OZ</td>\n",
       "      <td>1</td>\n",
       "      <td>3.99</td>\n",
       "    </tr>\n",
       "    <tr>\n",
       "      <th>9999999</th>\n",
       "      <td>126082871</td>\n",
       "      <td>18</td>\n",
       "      <td>33</td>\n",
       "      <td>3305</td>\n",
       "      <td>102840020</td>\n",
       "      <td>18584</td>\n",
       "      <td>2012-08-31</td>\n",
       "      <td>10.0</td>\n",
       "      <td>OZ</td>\n",
       "      <td>1</td>\n",
       "      <td>3.00</td>\n",
       "    </tr>\n",
       "  </tbody>\n",
       "</table>\n",
       "</div>"
      ],
      "text/plain": [
       "                id  chain  dept  category     company  brand        date  \\\n",
       "9999995  126082871     18    36      3634  1078616272   7237  2012-08-31   \n",
       "9999996  126082871     18     6       610   107084777  11910  2012-08-31   \n",
       "9999997  126082871     18    56      5607   102113020  10786  2012-08-31   \n",
       "9999998  126082871     18    63      6321   107989373  29344  2012-08-31   \n",
       "9999999  126082871     18    33      3305   102840020  18584  2012-08-31   \n",
       "\n",
       "         productsize productmeasure  purchasequantity  purchaseamount  \n",
       "9999995         32.0             OZ                 2            3.00  \n",
       "9999996         16.0             OZ                 1            2.29  \n",
       "9999997         16.0             OZ                 1            3.49  \n",
       "9999998         10.0             OZ                 1            3.99  \n",
       "9999999         10.0             OZ                 1            3.00  "
      ]
     },
     "execution_count": 5,
     "metadata": {},
     "output_type": "execute_result"
    }
   ],
   "source": [
    "chunk1.tail()"
   ]
  },
  {
   "cell_type": "code",
   "execution_count": 6,
   "metadata": {
    "collapsed": false
   },
   "outputs": [
    {
     "data": {
      "text/html": [
       "<div>\n",
       "<table border=\"1\" class=\"dataframe\">\n",
       "  <thead>\n",
       "    <tr style=\"text-align: right;\">\n",
       "      <th></th>\n",
       "      <th>id</th>\n",
       "      <th>chain</th>\n",
       "      <th>dept</th>\n",
       "      <th>category</th>\n",
       "      <th>company</th>\n",
       "      <th>brand</th>\n",
       "      <th>productsize</th>\n",
       "      <th>purchasequantity</th>\n",
       "      <th>purchaseamount</th>\n",
       "    </tr>\n",
       "  </thead>\n",
       "  <tbody>\n",
       "    <tr>\n",
       "      <th>count</th>\n",
       "      <td>1.000000e+07</td>\n",
       "      <td>1.000000e+07</td>\n",
       "      <td>1.000000e+07</td>\n",
       "      <td>1.000000e+07</td>\n",
       "      <td>1.000000e+07</td>\n",
       "      <td>1.000000e+07</td>\n",
       "      <td>1.000000e+07</td>\n",
       "      <td>1.000000e+07</td>\n",
       "      <td>1.000000e+07</td>\n",
       "    </tr>\n",
       "    <tr>\n",
       "      <th>mean</th>\n",
       "      <td>1.111775e+08</td>\n",
       "      <td>2.631343e+01</td>\n",
       "      <td>4.166467e+01</td>\n",
       "      <td>4.180254e+03</td>\n",
       "      <td>2.202853e+08</td>\n",
       "      <td>1.593180e+04</td>\n",
       "      <td>2.834404e+01</td>\n",
       "      <td>1.380535e+00</td>\n",
       "      <td>4.572598e+00</td>\n",
       "    </tr>\n",
       "    <tr>\n",
       "      <th>std</th>\n",
       "      <td>1.974703e+07</td>\n",
       "      <td>3.059072e+01</td>\n",
       "      <td>2.789194e+01</td>\n",
       "      <td>2.791806e+03</td>\n",
       "      <td>4.418062e+08</td>\n",
       "      <td>1.509730e+04</td>\n",
       "      <td>5.072834e+01</td>\n",
       "      <td>1.167092e+00</td>\n",
       "      <td>6.496406e+00</td>\n",
       "    </tr>\n",
       "    <tr>\n",
       "      <th>min</th>\n",
       "      <td>8.624600e+04</td>\n",
       "      <td>2.000000e+00</td>\n",
       "      <td>0.000000e+00</td>\n",
       "      <td>0.000000e+00</td>\n",
       "      <td>1.000000e+04</td>\n",
       "      <td>0.000000e+00</td>\n",
       "      <td>0.000000e+00</td>\n",
       "      <td>-2.800000e+01</td>\n",
       "      <td>-2.664200e+02</td>\n",
       "    </tr>\n",
       "    <tr>\n",
       "      <th>25%</th>\n",
       "      <td>1.046491e+08</td>\n",
       "      <td>1.400000e+01</td>\n",
       "      <td>1.800000e+01</td>\n",
       "      <td>1.890000e+03</td>\n",
       "      <td>1.021130e+08</td>\n",
       "      <td>7.848000e+03</td>\n",
       "      <td>7.500000e+00</td>\n",
       "      <td>1.000000e+00</td>\n",
       "      <td>2.290000e+00</td>\n",
       "    </tr>\n",
       "    <tr>\n",
       "      <th>50%</th>\n",
       "      <td>1.209127e+08</td>\n",
       "      <td>1.500000e+01</td>\n",
       "      <td>3.600000e+01</td>\n",
       "      <td>3.630000e+03</td>\n",
       "      <td>1.040000e+08</td>\n",
       "      <td>1.329100e+04</td>\n",
       "      <td>1.420000e+01</td>\n",
       "      <td>1.000000e+00</td>\n",
       "      <td>3.490000e+00</td>\n",
       "    </tr>\n",
       "    <tr>\n",
       "      <th>75%</th>\n",
       "      <td>1.238009e+08</td>\n",
       "      <td>1.800000e+01</td>\n",
       "      <td>6.000000e+01</td>\n",
       "      <td>6.012000e+03</td>\n",
       "      <td>1.073041e+08</td>\n",
       "      <td>1.711700e+04</td>\n",
       "      <td>2.400000e+01</td>\n",
       "      <td>1.000000e+00</td>\n",
       "      <td>5.490000e+00</td>\n",
       "    </tr>\n",
       "    <tr>\n",
       "      <th>max</th>\n",
       "      <td>1.260829e+08</td>\n",
       "      <td>2.170000e+02</td>\n",
       "      <td>9.900000e+01</td>\n",
       "      <td>9.999000e+03</td>\n",
       "      <td>1.099874e+10</td>\n",
       "      <td>1.086200e+05</td>\n",
       "      <td>4.000000e+03</td>\n",
       "      <td>3.840000e+02</td>\n",
       "      <td>3.000000e+03</td>\n",
       "    </tr>\n",
       "  </tbody>\n",
       "</table>\n",
       "</div>"
      ],
      "text/plain": [
       "                 id         chain          dept      category       company  \\\n",
       "count  1.000000e+07  1.000000e+07  1.000000e+07  1.000000e+07  1.000000e+07   \n",
       "mean   1.111775e+08  2.631343e+01  4.166467e+01  4.180254e+03  2.202853e+08   \n",
       "std    1.974703e+07  3.059072e+01  2.789194e+01  2.791806e+03  4.418062e+08   \n",
       "min    8.624600e+04  2.000000e+00  0.000000e+00  0.000000e+00  1.000000e+04   \n",
       "25%    1.046491e+08  1.400000e+01  1.800000e+01  1.890000e+03  1.021130e+08   \n",
       "50%    1.209127e+08  1.500000e+01  3.600000e+01  3.630000e+03  1.040000e+08   \n",
       "75%    1.238009e+08  1.800000e+01  6.000000e+01  6.012000e+03  1.073041e+08   \n",
       "max    1.260829e+08  2.170000e+02  9.900000e+01  9.999000e+03  1.099874e+10   \n",
       "\n",
       "              brand   productsize  purchasequantity  purchaseamount  \n",
       "count  1.000000e+07  1.000000e+07      1.000000e+07    1.000000e+07  \n",
       "mean   1.593180e+04  2.834404e+01      1.380535e+00    4.572598e+00  \n",
       "std    1.509730e+04  5.072834e+01      1.167092e+00    6.496406e+00  \n",
       "min    0.000000e+00  0.000000e+00     -2.800000e+01   -2.664200e+02  \n",
       "25%    7.848000e+03  7.500000e+00      1.000000e+00    2.290000e+00  \n",
       "50%    1.329100e+04  1.420000e+01      1.000000e+00    3.490000e+00  \n",
       "75%    1.711700e+04  2.400000e+01      1.000000e+00    5.490000e+00  \n",
       "max    1.086200e+05  4.000000e+03      3.840000e+02    3.000000e+03  "
      ]
     },
     "execution_count": 6,
     "metadata": {},
     "output_type": "execute_result"
    }
   ],
   "source": [
    "chunk1.describe()"
   ]
  },
  {
   "cell_type": "markdown",
   "metadata": {},
   "source": [
    "9,606 unique customers in this chunk."
   ]
  },
  {
   "cell_type": "code",
   "execution_count": 7,
   "metadata": {
    "collapsed": false
   },
   "outputs": [
    {
     "data": {
      "text/plain": [
       "(9606,)"
      ]
     },
     "execution_count": 7,
     "metadata": {},
     "output_type": "execute_result"
    }
   ],
   "source": [
    "chunk1['id'].unique().shape"
   ]
  },
  {
   "cell_type": "markdown",
   "metadata": {},
   "source": [
    "## Top department"
   ]
  },
  {
   "cell_type": "code",
   "execution_count": 8,
   "metadata": {
    "collapsed": false
   },
   "outputs": [
    {
     "data": {
      "text/plain": [
       "dept\n",
       "9     0.086751\n",
       "63    0.077805\n",
       "99    0.054898\n",
       "36    0.050704\n",
       "33    0.042609\n",
       "56    0.040353\n",
       "58    0.037662\n",
       "5     0.035145\n",
       "26    0.034572\n",
       "8     0.028861\n",
       "51    0.028739\n",
       "64    0.025441\n",
       "4     0.022438\n",
       "97    0.022086\n",
       "21    0.021762\n",
       "Name: dept, dtype: float64"
      ]
     },
     "execution_count": 8,
     "metadata": {},
     "output_type": "execute_result"
    }
   ],
   "source": [
    "dept_count = chunk1.groupby('dept')['dept'].count().sort_values(ascending=False)\n",
    "(dept_count / dept_count.sum()).head(15)"
   ]
  },
  {
   "cell_type": "markdown",
   "metadata": {},
   "source": [
    "## Top category"
   ]
  },
  {
   "cell_type": "code",
   "execution_count": 9,
   "metadata": {
    "collapsed": false
   },
   "outputs": [
    {
     "data": {
      "text/plain": [
       "category\n",
       "907     0.033090\n",
       "6315    0.028687\n",
       "501     0.020184\n",
       "9909    0.019505\n",
       "9908    0.017165\n",
       "9753    0.016590\n",
       "9904    0.016198\n",
       "902     0.015051\n",
       "6320    0.013909\n",
       "5823    0.010413\n",
       "6401    0.010006\n",
       "901     0.009711\n",
       "3303    0.009009\n",
       "9609    0.008816\n",
       "3611    0.007887\n",
       "Name: category, dtype: float64"
      ]
     },
     "execution_count": 9,
     "metadata": {},
     "output_type": "execute_result"
    }
   ],
   "source": [
    "category_count = chunk1.groupby('category')['category'].count().sort_values(ascending=False)\n",
    "(category_count / category_count.sum()).head(15)"
   ]
  },
  {
   "cell_type": "markdown",
   "metadata": {},
   "source": [
    "## Top chains"
   ]
  },
  {
   "cell_type": "code",
   "execution_count": 10,
   "metadata": {
    "collapsed": false
   },
   "outputs": [
    {
     "data": {
      "text/plain": [
       "chain\n",
       "15     0.239584\n",
       "18     0.175876\n",
       "4      0.155897\n",
       "17     0.096828\n",
       "95     0.087274\n",
       "20     0.069154\n",
       "14     0.068661\n",
       "88     0.065687\n",
       "3      0.036765\n",
       "205    0.002470\n",
       "192    0.000859\n",
       "58     0.000314\n",
       "46     0.000299\n",
       "217    0.000253\n",
       "2      0.000080\n",
       "Name: chain, dtype: float64"
      ]
     },
     "execution_count": 10,
     "metadata": {},
     "output_type": "execute_result"
    }
   ],
   "source": [
    "chain_count = chunk1.groupby('chain')['chain'].count().sort_values(ascending=False)\n",
    "(chain_count / chain_count.sum()).head(15)"
   ]
  },
  {
   "cell_type": "markdown",
   "metadata": {},
   "source": [
    "## Top companies"
   ]
  },
  {
   "cell_type": "code",
   "execution_count": 11,
   "metadata": {
    "collapsed": false
   },
   "outputs": [
    {
     "data": {
      "text/plain": [
       "company\n",
       "102113020    0.207167\n",
       "107989373    0.033782\n",
       "102840020    0.021571\n",
       "101600010    0.015470\n",
       "104400040    0.014116\n",
       "103700030    0.014077\n",
       "103800030    0.011840\n",
       "104900040    0.011792\n",
       "102100020    0.011725\n",
       "10000        0.011114\n",
       "105100050    0.010110\n",
       "101200010    0.009802\n",
       "107127979    0.009223\n",
       "103400030    0.008598\n",
       "104470040    0.008583\n",
       "Name: company, dtype: float64"
      ]
     },
     "execution_count": 11,
     "metadata": {},
     "output_type": "execute_result"
    }
   ],
   "source": [
    "company_count = chunk1.groupby('company')['company'].count().sort_values(ascending=False)\n",
    "(company_count / company_count.sum()).head(15)"
   ]
  },
  {
   "cell_type": "markdown",
   "metadata": {},
   "source": [
    "## Top brands"
   ]
  },
  {
   "cell_type": "code",
   "execution_count": 12,
   "metadata": {
    "collapsed": false
   },
   "outputs": [
    {
     "data": {
      "text/plain": [
       "brand\n",
       "15704    0.124630\n",
       "10786    0.062087\n",
       "0        0.018323\n",
       "12908    0.015449\n",
       "30626    0.013390\n",
       "33170    0.012552\n",
       "6732     0.009223\n",
       "16397    0.009043\n",
       "88199    0.008816\n",
       "9886     0.007436\n",
       "13310    0.006579\n",
       "29344    0.006077\n",
       "2820     0.005696\n",
       "20230    0.005490\n",
       "5278     0.005481\n",
       "Name: brand, dtype: float64"
      ]
     },
     "execution_count": 12,
     "metadata": {},
     "output_type": "execute_result"
    }
   ],
   "source": [
    "brand_count = chunk1.groupby('brand')['brand'].count().sort_values(ascending=False)\n",
    "(brand_count / brand_count.sum()).head(15)"
   ]
  },
  {
   "cell_type": "markdown",
   "metadata": {},
   "source": [
    "## Time series plot\n",
    "Number of transactions on each date."
   ]
  },
  {
   "cell_type": "code",
   "execution_count": 13,
   "metadata": {
    "collapsed": true
   },
   "outputs": [],
   "source": [
    "date_trans_count = chunk1.groupby('date')['date'].count()"
   ]
  },
  {
   "cell_type": "code",
   "execution_count": 14,
   "metadata": {
    "collapsed": false
   },
   "outputs": [
    {
     "name": "stdout",
     "output_type": "stream",
     "text": [
      "2012-03-02\n",
      "2013-07-27\n"
     ]
    }
   ],
   "source": [
    "print min(date_trans_count.index)\n",
    "print max(date_trans_count.index)"
   ]
  },
  {
   "cell_type": "code",
   "execution_count": 15,
   "metadata": {
    "collapsed": false
   },
   "outputs": [
    {
     "data": {
      "image/png": "[encoded data removed]",
      "text/plain": [
       "<matplotlib.figure.Figure at 0x14bacd250>"
      ]
     },
     "metadata": {},
     "output_type": "display_data"
    }
   ],
   "source": [
    "ax = sns.tsplot(date_trans_count)\n",
    "ax.set(xlabel='Date', ylabel='Total Number of Transactions')\n",
    "plt.show()"
   ]
  },
  {
   "cell_type": "markdown",
   "metadata": {},
   "source": [
    "## Number of transactions per user"
   ]
  },
  {
   "cell_type": "code",
   "execution_count": 16,
   "metadata": {
    "collapsed": false
   },
   "outputs": [
    {
     "data": {
      "text/plain": [
       "768     14\n",
       "474     14\n",
       "554     14\n",
       "762     14\n",
       "565     14\n",
       "1160    13\n",
       "464     13\n",
       "488     13\n",
       "248     13\n",
       "310     13\n",
       "525     13\n",
       "1126    12\n",
       "510     12\n",
       "529     12\n",
       "276     12\n",
       "Name: id, dtype: int64"
      ]
     },
     "execution_count": 16,
     "metadata": {},
     "output_type": "execute_result"
    }
   ],
   "source": [
    "id_counts = chunk1.groupby('id')['id'].count()\n",
    "id_counts.value_counts().sort_values(ascending=False).head(15)"
   ]
  },
  {
   "cell_type": "code",
   "execution_count": 17,
   "metadata": {
    "collapsed": false
   },
   "outputs": [
    {
     "data": {
      "text/plain": [
       "count     9606.000000\n",
       "mean      1041.016032\n",
       "std        709.232351\n",
       "min          7.000000\n",
       "25%        522.250000\n",
       "50%        895.000000\n",
       "75%       1411.000000\n",
       "max      12609.000000\n",
       "Name: id, dtype: float64"
      ]
     },
     "execution_count": 17,
     "metadata": {},
     "output_type": "execute_result"
    }
   ],
   "source": [
    "id_counts.describe()"
   ]
  },
  {
   "cell_type": "markdown",
   "metadata": {},
   "source": [
    "Heavily skewed to the right. Will have to remove or cap this feature."
   ]
  },
  {
   "cell_type": "code",
   "execution_count": 18,
   "metadata": {
    "collapsed": false
   },
   "outputs": [
    {
     "data": {
      "image/png": "[encoded data removed]",
      "text/plain": [
       "<matplotlib.figure.Figure at 0x1045aba10>"
      ]
     },
     "metadata": {},
     "output_type": "display_data"
    }
   ],
   "source": [
    "ax = sns.distplot(id_counts)\n",
    "ax.set(xlabel = 'Number of Transactions', ylabel='Number of Transactions Per User')\n",
    "plt.show()"
   ]
  },
  {
   "cell_type": "markdown",
   "metadata": {},
   "source": [
    "## Train history data"
   ]
  },
  {
   "cell_type": "code",
   "execution_count": 19,
   "metadata": {
    "collapsed": true
   },
   "outputs": [],
   "source": [
    "train = pd.read_csv('../data/trainHistory.csv')\n",
    "offers = pd.read_csv('../data/offers.csv')"
   ]
  },
  {
   "cell_type": "code",
   "execution_count": 20,
   "metadata": {
    "collapsed": true
   },
   "outputs": [],
   "source": [
    "# Add department to offers\n",
    "dept = []\n",
    "for i in range(offers.shape[0]):\n",
    "    str_category = str(offers['category'].iloc[i])\n",
    "    if len(str_category) == 4:\n",
    "        dept.append(str_category[:2])\n",
    "    else:\n",
    "        dept.append(str_category[:1])\n",
    "offers['dept'] = dept\n",
    "offers['dept'] = pd.to_numeric(offers['dept'])"
   ]
  },
  {
   "cell_type": "code",
   "execution_count": 21,
   "metadata": {
    "collapsed": true
   },
   "outputs": [],
   "source": [
    "train = pd.merge(train, offers, how='left', on=['offer'])"
   ]
  },
  {
   "cell_type": "code",
   "execution_count": 22,
   "metadata": {
    "collapsed": false
   },
   "outputs": [],
   "source": [
    "# Rename columns\n",
    "train.columns = ['id', 'chain', 'offer', 'market', 'repeattrips', 'repeater', 'offerdate', \n",
    "                 'offer_category', 'quantity', 'offer_company', 'offervalue', 'offer_brand',\n",
    "                 'offer_dept']"
   ]
  },
  {
   "cell_type": "code",
   "execution_count": 23,
   "metadata": {
    "collapsed": true
   },
   "outputs": [],
   "source": [
    "# Convert to date\n",
    "train['offerdate'] = pd.to_datetime(train['offerdate'], format='%Y/%m/%d')"
   ]
  },
  {
   "cell_type": "code",
   "execution_count": 24,
   "metadata": {
    "collapsed": true
   },
   "outputs": [],
   "source": [
    "# Merge the number of transactions per customer to the train data\n",
    "id_counts_df = pd.DataFrame(id_counts)\n",
    "id_counts_df.columns = ['counts']\n",
    "id_counts_df.reset_index(inplace=True)\n",
    "train = pd.merge(train, id_counts_df, how='left', on='id')"
   ]
  },
  {
   "cell_type": "code",
   "execution_count": 25,
   "metadata": {
    "collapsed": true
   },
   "outputs": [],
   "source": [
    "# Reencode the target variable\n",
    "train['repeater'] = np.where(train['repeater'] == 't', '1', '0')\n",
    "train['repeater'] = pd.to_numeric(train['repeater'])"
   ]
  },
  {
   "cell_type": "code",
   "execution_count": 26,
   "metadata": {
    "collapsed": false
   },
   "outputs": [
    {
     "data": {
      "text/html": [
       "<div>\n",
       "<table border=\"1\" class=\"dataframe\">\n",
       "  <thead>\n",
       "    <tr style=\"text-align: right;\">\n",
       "      <th></th>\n",
       "      <th>id</th>\n",
       "      <th>chain</th>\n",
       "      <th>offer</th>\n",
       "      <th>market</th>\n",
       "      <th>repeattrips</th>\n",
       "      <th>repeater</th>\n",
       "      <th>offerdate</th>\n",
       "      <th>offer_category</th>\n",
       "      <th>quantity</th>\n",
       "      <th>offer_company</th>\n",
       "      <th>offervalue</th>\n",
       "      <th>offer_brand</th>\n",
       "      <th>offer_dept</th>\n",
       "      <th>counts</th>\n",
       "    </tr>\n",
       "  </thead>\n",
       "  <tbody>\n",
       "    <tr>\n",
       "      <th>0</th>\n",
       "      <td>86246</td>\n",
       "      <td>205</td>\n",
       "      <td>1208251</td>\n",
       "      <td>34</td>\n",
       "      <td>5</td>\n",
       "      <td>1</td>\n",
       "      <td>2013-04-24</td>\n",
       "      <td>2202</td>\n",
       "      <td>1</td>\n",
       "      <td>104460040</td>\n",
       "      <td>2.00</td>\n",
       "      <td>3718</td>\n",
       "      <td>22</td>\n",
       "      <td>12609.0</td>\n",
       "    </tr>\n",
       "    <tr>\n",
       "      <th>1</th>\n",
       "      <td>86252</td>\n",
       "      <td>205</td>\n",
       "      <td>1197502</td>\n",
       "      <td>34</td>\n",
       "      <td>16</td>\n",
       "      <td>1</td>\n",
       "      <td>2013-03-27</td>\n",
       "      <td>3203</td>\n",
       "      <td>1</td>\n",
       "      <td>106414464</td>\n",
       "      <td>0.75</td>\n",
       "      <td>13474</td>\n",
       "      <td>32</td>\n",
       "      <td>12087.0</td>\n",
       "    </tr>\n",
       "    <tr>\n",
       "      <th>2</th>\n",
       "      <td>12682470</td>\n",
       "      <td>18</td>\n",
       "      <td>1197502</td>\n",
       "      <td>11</td>\n",
       "      <td>0</td>\n",
       "      <td>0</td>\n",
       "      <td>2013-03-28</td>\n",
       "      <td>3203</td>\n",
       "      <td>1</td>\n",
       "      <td>106414464</td>\n",
       "      <td>0.75</td>\n",
       "      <td>13474</td>\n",
       "      <td>32</td>\n",
       "      <td>806.0</td>\n",
       "    </tr>\n",
       "    <tr>\n",
       "      <th>3</th>\n",
       "      <td>12996040</td>\n",
       "      <td>15</td>\n",
       "      <td>1197502</td>\n",
       "      <td>9</td>\n",
       "      <td>0</td>\n",
       "      <td>0</td>\n",
       "      <td>2013-03-25</td>\n",
       "      <td>3203</td>\n",
       "      <td>1</td>\n",
       "      <td>106414464</td>\n",
       "      <td>0.75</td>\n",
       "      <td>13474</td>\n",
       "      <td>32</td>\n",
       "      <td>326.0</td>\n",
       "    </tr>\n",
       "    <tr>\n",
       "      <th>4</th>\n",
       "      <td>13089312</td>\n",
       "      <td>15</td>\n",
       "      <td>1204821</td>\n",
       "      <td>9</td>\n",
       "      <td>0</td>\n",
       "      <td>0</td>\n",
       "      <td>2013-04-01</td>\n",
       "      <td>5619</td>\n",
       "      <td>1</td>\n",
       "      <td>107717272</td>\n",
       "      <td>1.50</td>\n",
       "      <td>102504</td>\n",
       "      <td>56</td>\n",
       "      <td>1218.0</td>\n",
       "    </tr>\n",
       "  </tbody>\n",
       "</table>\n",
       "</div>"
      ],
      "text/plain": [
       "         id  chain    offer  market  repeattrips  repeater  offerdate  \\\n",
       "0     86246    205  1208251      34            5         1 2013-04-24   \n",
       "1     86252    205  1197502      34           16         1 2013-03-27   \n",
       "2  12682470     18  1197502      11            0         0 2013-03-28   \n",
       "3  12996040     15  1197502       9            0         0 2013-03-25   \n",
       "4  13089312     15  1204821       9            0         0 2013-04-01   \n",
       "\n",
       "   offer_category  quantity  offer_company  offervalue  offer_brand  \\\n",
       "0            2202         1      104460040        2.00         3718   \n",
       "1            3203         1      106414464        0.75        13474   \n",
       "2            3203         1      106414464        0.75        13474   \n",
       "3            3203         1      106414464        0.75        13474   \n",
       "4            5619         1      107717272        1.50       102504   \n",
       "\n",
       "   offer_dept   counts  \n",
       "0          22  12609.0  \n",
       "1          32  12087.0  \n",
       "2          32    806.0  \n",
       "3          32    326.0  \n",
       "4          56   1218.0  "
      ]
     },
     "execution_count": 26,
     "metadata": {},
     "output_type": "execute_result"
    }
   ],
   "source": [
    "train.head()"
   ]
  },
  {
   "cell_type": "markdown",
   "metadata": {},
   "source": [
    "About 27% of customers in the training data have used the offer."
   ]
  },
  {
   "cell_type": "code",
   "execution_count": 27,
   "metadata": {
    "collapsed": false
   },
   "outputs": [
    {
     "data": {
      "text/plain": [
       "0.27139081702143614"
      ]
     },
     "execution_count": 27,
     "metadata": {},
     "output_type": "execute_result"
    }
   ],
   "source": [
    "train['repeater'].mean()"
   ]
  },
  {
   "cell_type": "markdown",
   "metadata": {},
   "source": [
    "37 total offers in the offers CSV file. There are 24 unique offers in the training set and 13 unique offers in the testing set."
   ]
  },
  {
   "cell_type": "code",
   "execution_count": 28,
   "metadata": {
    "collapsed": false
   },
   "outputs": [
    {
     "name": "stdout",
     "output_type": "stream",
     "text": [
      "37\n",
      "24\n"
     ]
    }
   ],
   "source": [
    "print len(offers['offer'].unique())\n",
    "print len(train['offer'].unique())"
   ]
  },
  {
   "cell_type": "markdown",
   "metadata": {},
   "source": [
    "Customers with more transactions are more likely to accept the offer."
   ]
  },
  {
   "cell_type": "code",
   "execution_count": 29,
   "metadata": {
    "collapsed": false
   },
   "outputs": [
    {
     "data": {
      "text/plain": [
       "repeater\n",
       "0     908.848820\n",
       "1    1100.929708\n",
       "Name: counts, dtype: float64"
      ]
     },
     "execution_count": 29,
     "metadata": {},
     "output_type": "execute_result"
    }
   ],
   "source": [
    "train.groupby('repeater')['counts'].mean()"
   ]
  },
  {
   "cell_type": "code",
   "execution_count": 30,
   "metadata": {
    "collapsed": false
   },
   "outputs": [
    {
     "data": {
      "image/png": "[encoded data removed]",
      "text/plain": [
       "<matplotlib.figure.Figure at 0x1161fc0d0>"
      ]
     },
     "metadata": {},
     "output_type": "display_data"
    }
   ],
   "source": [
    "ax = sns.boxplot(x='repeater', y='counts', data=train)\n",
    "ax.set(xlabel='Repeater', ylabel='Number of Transactions')\n",
    "plt.show()"
   ]
  },
  {
   "cell_type": "markdown",
   "metadata": {
    "collapsed": false
   },
   "source": [
    "Offers by category"
   ]
  },
  {
   "cell_type": "code",
   "execution_count": 31,
   "metadata": {
    "collapsed": false
   },
   "outputs": [
    {
     "data": {
      "text/plain": [
       "offer_category\n",
       "3203    0.285223\n",
       "9909    0.138369\n",
       "2119    0.117252\n",
       "2202    0.115090\n",
       "4401    0.093767\n",
       "6202    0.056580\n",
       "5616    0.045565\n",
       "5558    0.043572\n",
       "1726    0.039505\n",
       "5619    0.028840\n",
       "1703    0.025991\n",
       "3509    0.008859\n",
       "3504    0.001387\n",
       "Name: offer_category, dtype: float64"
      ]
     },
     "execution_count": 31,
     "metadata": {},
     "output_type": "execute_result"
    }
   ],
   "source": [
    "category_counts = train.groupby('offer_category')['offer_category'].count()\n",
    "(category_counts / category_counts.sum()).sort_values(ascending=False)"
   ]
  },
  {
   "cell_type": "markdown",
   "metadata": {},
   "source": [
    "Offers by department"
   ]
  },
  {
   "cell_type": "code",
   "execution_count": 32,
   "metadata": {
    "collapsed": false
   },
   "outputs": [
    {
     "data": {
      "text/plain": [
       "offer_dept\n",
       "32    0.285223\n",
       "99    0.138369\n",
       "21    0.117252\n",
       "22    0.115090\n",
       "44    0.093767\n",
       "56    0.074405\n",
       "17    0.065495\n",
       "62    0.056580\n",
       "55    0.043572\n",
       "35    0.010246\n",
       "Name: offer_dept, dtype: float64"
      ]
     },
     "execution_count": 32,
     "metadata": {},
     "output_type": "execute_result"
    }
   ],
   "source": [
    "dept_counts = train.groupby('offer_dept')['offer_dept'].count()\n",
    "(dept_counts / dept_counts.sum()).sort_values(ascending=False)"
   ]
  },
  {
   "cell_type": "markdown",
   "metadata": {},
   "source": [
    "Offers by brand"
   ]
  },
  {
   "cell_type": "code",
   "execution_count": 33,
   "metadata": {
    "collapsed": false
   },
   "outputs": [
    {
     "data": {
      "text/plain": [
       "offer_brand\n",
       "13474     0.285223\n",
       "6926      0.117252\n",
       "3718      0.115090\n",
       "28840     0.095822\n",
       "13791     0.093767\n",
       "7668      0.066882\n",
       "64486     0.056580\n",
       "15889     0.045565\n",
       "5072      0.043572\n",
       "6732      0.042547\n",
       "102504    0.028840\n",
       "875       0.008859\n",
       "Name: offer_brand, dtype: float64"
      ]
     },
     "execution_count": 33,
     "metadata": {},
     "output_type": "execute_result"
    }
   ],
   "source": [
    "brand_counts = train.groupby('offer_brand')['offer_brand'].count()\n",
    "(brand_counts / brand_counts.sum()).sort_values(ascending=False)"
   ]
  },
  {
   "cell_type": "markdown",
   "metadata": {},
   "source": [
    "## Let's see how many transactions a customer has in the same offer category/brand/dept/company"
   ]
  },
  {
   "cell_type": "code",
   "execution_count": 34,
   "metadata": {
    "collapsed": true
   },
   "outputs": [],
   "source": [
    "train_trans = pd.merge(train, chunk1, how='left', on=['id', 'chain'])"
   ]
  },
  {
   "cell_type": "code",
   "execution_count": 35,
   "metadata": {
    "collapsed": false
   },
   "outputs": [
    {
     "data": {
      "text/html": [
       "<div>\n",
       "<table border=\"1\" class=\"dataframe\">\n",
       "  <thead>\n",
       "    <tr style=\"text-align: right;\">\n",
       "      <th></th>\n",
       "      <th>id</th>\n",
       "      <th>chain</th>\n",
       "      <th>offer</th>\n",
       "      <th>market</th>\n",
       "      <th>repeattrips</th>\n",
       "      <th>repeater</th>\n",
       "      <th>offerdate</th>\n",
       "      <th>offer_category</th>\n",
       "      <th>quantity</th>\n",
       "      <th>offer_company</th>\n",
       "      <th>...</th>\n",
       "      <th>counts</th>\n",
       "      <th>dept</th>\n",
       "      <th>category</th>\n",
       "      <th>company</th>\n",
       "      <th>brand</th>\n",
       "      <th>date</th>\n",
       "      <th>productsize</th>\n",
       "      <th>productmeasure</th>\n",
       "      <th>purchasequantity</th>\n",
       "      <th>purchaseamount</th>\n",
       "    </tr>\n",
       "  </thead>\n",
       "  <tbody>\n",
       "    <tr>\n",
       "      <th>0</th>\n",
       "      <td>86246</td>\n",
       "      <td>205</td>\n",
       "      <td>1208251</td>\n",
       "      <td>34</td>\n",
       "      <td>5</td>\n",
       "      <td>1</td>\n",
       "      <td>2013-04-24</td>\n",
       "      <td>2202</td>\n",
       "      <td>1</td>\n",
       "      <td>104460040</td>\n",
       "      <td>...</td>\n",
       "      <td>12609.0</td>\n",
       "      <td>7.0</td>\n",
       "      <td>707.0</td>\n",
       "      <td>1.078778e+09</td>\n",
       "      <td>12564.0</td>\n",
       "      <td>2012-03-02</td>\n",
       "      <td>12.0</td>\n",
       "      <td>OZ</td>\n",
       "      <td>1.0</td>\n",
       "      <td>7.59</td>\n",
       "    </tr>\n",
       "    <tr>\n",
       "      <th>1</th>\n",
       "      <td>86246</td>\n",
       "      <td>205</td>\n",
       "      <td>1208251</td>\n",
       "      <td>34</td>\n",
       "      <td>5</td>\n",
       "      <td>1</td>\n",
       "      <td>2013-04-24</td>\n",
       "      <td>2202</td>\n",
       "      <td>1</td>\n",
       "      <td>104460040</td>\n",
       "      <td>...</td>\n",
       "      <td>12609.0</td>\n",
       "      <td>63.0</td>\n",
       "      <td>6319.0</td>\n",
       "      <td>1.076546e+08</td>\n",
       "      <td>17876.0</td>\n",
       "      <td>2012-03-02</td>\n",
       "      <td>64.0</td>\n",
       "      <td>OZ</td>\n",
       "      <td>1.0</td>\n",
       "      <td>1.59</td>\n",
       "    </tr>\n",
       "    <tr>\n",
       "      <th>2</th>\n",
       "      <td>86246</td>\n",
       "      <td>205</td>\n",
       "      <td>1208251</td>\n",
       "      <td>34</td>\n",
       "      <td>5</td>\n",
       "      <td>1</td>\n",
       "      <td>2013-04-24</td>\n",
       "      <td>2202</td>\n",
       "      <td>1</td>\n",
       "      <td>104460040</td>\n",
       "      <td>...</td>\n",
       "      <td>12609.0</td>\n",
       "      <td>97.0</td>\n",
       "      <td>9753.0</td>\n",
       "      <td>1.022028e+09</td>\n",
       "      <td>0.0</td>\n",
       "      <td>2012-03-02</td>\n",
       "      <td>1.0</td>\n",
       "      <td>CT</td>\n",
       "      <td>1.0</td>\n",
       "      <td>5.99</td>\n",
       "    </tr>\n",
       "    <tr>\n",
       "      <th>3</th>\n",
       "      <td>86246</td>\n",
       "      <td>205</td>\n",
       "      <td>1208251</td>\n",
       "      <td>34</td>\n",
       "      <td>5</td>\n",
       "      <td>1</td>\n",
       "      <td>2013-04-24</td>\n",
       "      <td>2202</td>\n",
       "      <td>1</td>\n",
       "      <td>104460040</td>\n",
       "      <td>...</td>\n",
       "      <td>12609.0</td>\n",
       "      <td>25.0</td>\n",
       "      <td>2509.0</td>\n",
       "      <td>1.079968e+08</td>\n",
       "      <td>31373.0</td>\n",
       "      <td>2012-03-02</td>\n",
       "      <td>16.0</td>\n",
       "      <td>OZ</td>\n",
       "      <td>1.0</td>\n",
       "      <td>1.99</td>\n",
       "    </tr>\n",
       "    <tr>\n",
       "      <th>4</th>\n",
       "      <td>86246</td>\n",
       "      <td>205</td>\n",
       "      <td>1208251</td>\n",
       "      <td>34</td>\n",
       "      <td>5</td>\n",
       "      <td>1</td>\n",
       "      <td>2013-04-24</td>\n",
       "      <td>2202</td>\n",
       "      <td>1</td>\n",
       "      <td>104460040</td>\n",
       "      <td>...</td>\n",
       "      <td>12609.0</td>\n",
       "      <td>55.0</td>\n",
       "      <td>5555.0</td>\n",
       "      <td>1.076841e+08</td>\n",
       "      <td>32094.0</td>\n",
       "      <td>2012-03-02</td>\n",
       "      <td>16.0</td>\n",
       "      <td>OZ</td>\n",
       "      <td>2.0</td>\n",
       "      <td>10.38</td>\n",
       "    </tr>\n",
       "  </tbody>\n",
       "</table>\n",
       "<p>5 rows × 23 columns</p>\n",
       "</div>"
      ],
      "text/plain": [
       "      id  chain    offer  market  repeattrips  repeater  offerdate  \\\n",
       "0  86246    205  1208251      34            5         1 2013-04-24   \n",
       "1  86246    205  1208251      34            5         1 2013-04-24   \n",
       "2  86246    205  1208251      34            5         1 2013-04-24   \n",
       "3  86246    205  1208251      34            5         1 2013-04-24   \n",
       "4  86246    205  1208251      34            5         1 2013-04-24   \n",
       "\n",
       "   offer_category  quantity  offer_company       ...         counts  dept  \\\n",
       "0            2202         1      104460040       ...        12609.0   7.0   \n",
       "1            2202         1      104460040       ...        12609.0  63.0   \n",
       "2            2202         1      104460040       ...        12609.0  97.0   \n",
       "3            2202         1      104460040       ...        12609.0  25.0   \n",
       "4            2202         1      104460040       ...        12609.0  55.0   \n",
       "\n",
       "   category       company    brand        date  productsize  productmeasure  \\\n",
       "0     707.0  1.078778e+09  12564.0  2012-03-02         12.0              OZ   \n",
       "1    6319.0  1.076546e+08  17876.0  2012-03-02         64.0              OZ   \n",
       "2    9753.0  1.022028e+09      0.0  2012-03-02          1.0              CT   \n",
       "3    2509.0  1.079968e+08  31373.0  2012-03-02         16.0              OZ   \n",
       "4    5555.0  1.076841e+08  32094.0  2012-03-02         16.0              OZ   \n",
       "\n",
       "  purchasequantity  purchaseamount  \n",
       "0              1.0            7.59  \n",
       "1              1.0            1.59  \n",
       "2              1.0            5.99  \n",
       "3              1.0            1.99  \n",
       "4              2.0           10.38  \n",
       "\n",
       "[5 rows x 23 columns]"
      ]
     },
     "execution_count": 35,
     "metadata": {},
     "output_type": "execute_result"
    }
   ],
   "source": [
    "train_trans.head()"
   ]
  },
  {
   "cell_type": "code",
   "execution_count": 36,
   "metadata": {
    "collapsed": true
   },
   "outputs": [],
   "source": [
    "# Add columns where transaction dept/category/brand is same as offer dept/category/brand\n",
    "train_trans['match_category'] = np.where(train_trans['offer_category'] == train_trans['category'], 1, 0)\n",
    "train_trans['match_dept'] = np.where(train_trans['offer_dept'] == train_trans['dept'], 1, 0)\n",
    "train_trans['match_brand'] = np.where(train_trans['offer_brand'] == train_trans['brand'], 1, 0)\n",
    "train_trans['match_company'] = np.where(train_trans['offer_company'] == train_trans['company'], 1, 0)"
   ]
  },
  {
   "cell_type": "code",
   "execution_count": 37,
   "metadata": {
    "collapsed": true
   },
   "outputs": [],
   "source": [
    "# Get total matches by dept/category/brand\n",
    "train_trans['total_match_category'] = train_trans.groupby('id')['match_category'].transform(sum)\n",
    "train_trans['total_match_dept'] = train_trans.groupby('id')['match_dept'].transform(sum)\n",
    "train_trans['total_match_brand'] = train_trans.groupby('id')['match_brand'].transform(sum)\n",
    "train_trans['total_match_company'] = train_trans.groupby('id')['match_company'].transform(sum)"
   ]
  },
  {
   "cell_type": "code",
   "execution_count": 38,
   "metadata": {
    "collapsed": false
   },
   "outputs": [
    {
     "data": {
      "text/html": [
       "<div>\n",
       "<table border=\"1\" class=\"dataframe\">\n",
       "  <thead>\n",
       "    <tr style=\"text-align: right;\">\n",
       "      <th></th>\n",
       "      <th>id</th>\n",
       "      <th>chain</th>\n",
       "      <th>offer</th>\n",
       "      <th>market</th>\n",
       "      <th>repeattrips</th>\n",
       "      <th>repeater</th>\n",
       "      <th>offerdate</th>\n",
       "      <th>offer_category</th>\n",
       "      <th>quantity</th>\n",
       "      <th>offer_company</th>\n",
       "      <th>...</th>\n",
       "      <th>purchasequantity</th>\n",
       "      <th>purchaseamount</th>\n",
       "      <th>match_category</th>\n",
       "      <th>match_dept</th>\n",
       "      <th>match_brand</th>\n",
       "      <th>match_company</th>\n",
       "      <th>total_match_category</th>\n",
       "      <th>total_match_dept</th>\n",
       "      <th>total_match_brand</th>\n",
       "      <th>total_match_company</th>\n",
       "    </tr>\n",
       "  </thead>\n",
       "  <tbody>\n",
       "    <tr>\n",
       "      <th>0</th>\n",
       "      <td>86246</td>\n",
       "      <td>205</td>\n",
       "      <td>1208251</td>\n",
       "      <td>34</td>\n",
       "      <td>5</td>\n",
       "      <td>1</td>\n",
       "      <td>2013-04-24</td>\n",
       "      <td>2202</td>\n",
       "      <td>1</td>\n",
       "      <td>104460040</td>\n",
       "      <td>...</td>\n",
       "      <td>1.0</td>\n",
       "      <td>7.59</td>\n",
       "      <td>0</td>\n",
       "      <td>0</td>\n",
       "      <td>0</td>\n",
       "      <td>0</td>\n",
       "      <td>0</td>\n",
       "      <td>47</td>\n",
       "      <td>8</td>\n",
       "      <td>36</td>\n",
       "    </tr>\n",
       "    <tr>\n",
       "      <th>1</th>\n",
       "      <td>86246</td>\n",
       "      <td>205</td>\n",
       "      <td>1208251</td>\n",
       "      <td>34</td>\n",
       "      <td>5</td>\n",
       "      <td>1</td>\n",
       "      <td>2013-04-24</td>\n",
       "      <td>2202</td>\n",
       "      <td>1</td>\n",
       "      <td>104460040</td>\n",
       "      <td>...</td>\n",
       "      <td>1.0</td>\n",
       "      <td>1.59</td>\n",
       "      <td>0</td>\n",
       "      <td>0</td>\n",
       "      <td>0</td>\n",
       "      <td>0</td>\n",
       "      <td>0</td>\n",
       "      <td>47</td>\n",
       "      <td>8</td>\n",
       "      <td>36</td>\n",
       "    </tr>\n",
       "    <tr>\n",
       "      <th>2</th>\n",
       "      <td>86246</td>\n",
       "      <td>205</td>\n",
       "      <td>1208251</td>\n",
       "      <td>34</td>\n",
       "      <td>5</td>\n",
       "      <td>1</td>\n",
       "      <td>2013-04-24</td>\n",
       "      <td>2202</td>\n",
       "      <td>1</td>\n",
       "      <td>104460040</td>\n",
       "      <td>...</td>\n",
       "      <td>1.0</td>\n",
       "      <td>5.99</td>\n",
       "      <td>0</td>\n",
       "      <td>0</td>\n",
       "      <td>0</td>\n",
       "      <td>0</td>\n",
       "      <td>0</td>\n",
       "      <td>47</td>\n",
       "      <td>8</td>\n",
       "      <td>36</td>\n",
       "    </tr>\n",
       "    <tr>\n",
       "      <th>3</th>\n",
       "      <td>86246</td>\n",
       "      <td>205</td>\n",
       "      <td>1208251</td>\n",
       "      <td>34</td>\n",
       "      <td>5</td>\n",
       "      <td>1</td>\n",
       "      <td>2013-04-24</td>\n",
       "      <td>2202</td>\n",
       "      <td>1</td>\n",
       "      <td>104460040</td>\n",
       "      <td>...</td>\n",
       "      <td>1.0</td>\n",
       "      <td>1.99</td>\n",
       "      <td>0</td>\n",
       "      <td>0</td>\n",
       "      <td>0</td>\n",
       "      <td>0</td>\n",
       "      <td>0</td>\n",
       "      <td>47</td>\n",
       "      <td>8</td>\n",
       "      <td>36</td>\n",
       "    </tr>\n",
       "    <tr>\n",
       "      <th>4</th>\n",
       "      <td>86246</td>\n",
       "      <td>205</td>\n",
       "      <td>1208251</td>\n",
       "      <td>34</td>\n",
       "      <td>5</td>\n",
       "      <td>1</td>\n",
       "      <td>2013-04-24</td>\n",
       "      <td>2202</td>\n",
       "      <td>1</td>\n",
       "      <td>104460040</td>\n",
       "      <td>...</td>\n",
       "      <td>2.0</td>\n",
       "      <td>10.38</td>\n",
       "      <td>0</td>\n",
       "      <td>0</td>\n",
       "      <td>0</td>\n",
       "      <td>0</td>\n",
       "      <td>0</td>\n",
       "      <td>47</td>\n",
       "      <td>8</td>\n",
       "      <td>36</td>\n",
       "    </tr>\n",
       "  </tbody>\n",
       "</table>\n",
       "<p>5 rows × 31 columns</p>\n",
       "</div>"
      ],
      "text/plain": [
       "      id  chain    offer  market  repeattrips  repeater  offerdate  \\\n",
       "0  86246    205  1208251      34            5         1 2013-04-24   \n",
       "1  86246    205  1208251      34            5         1 2013-04-24   \n",
       "2  86246    205  1208251      34            5         1 2013-04-24   \n",
       "3  86246    205  1208251      34            5         1 2013-04-24   \n",
       "4  86246    205  1208251      34            5         1 2013-04-24   \n",
       "\n",
       "   offer_category  quantity  offer_company         ...           \\\n",
       "0            2202         1      104460040         ...            \n",
       "1            2202         1      104460040         ...            \n",
       "2            2202         1      104460040         ...            \n",
       "3            2202         1      104460040         ...            \n",
       "4            2202         1      104460040         ...            \n",
       "\n",
       "   purchasequantity  purchaseamount  match_category  match_dept  match_brand  \\\n",
       "0               1.0            7.59               0           0            0   \n",
       "1               1.0            1.59               0           0            0   \n",
       "2               1.0            5.99               0           0            0   \n",
       "3               1.0            1.99               0           0            0   \n",
       "4               2.0           10.38               0           0            0   \n",
       "\n",
       "   match_company  total_match_category  total_match_dept total_match_brand  \\\n",
       "0              0                     0                47                 8   \n",
       "1              0                     0                47                 8   \n",
       "2              0                     0                47                 8   \n",
       "3              0                     0                47                 8   \n",
       "4              0                     0                47                 8   \n",
       "\n",
       "   total_match_company  \n",
       "0                   36  \n",
       "1                   36  \n",
       "2                   36  \n",
       "3                   36  \n",
       "4                   36  \n",
       "\n",
       "[5 rows x 31 columns]"
      ]
     },
     "execution_count": 38,
     "metadata": {},
     "output_type": "execute_result"
    }
   ],
   "source": [
    "train_trans.head()"
   ]
  },
  {
   "cell_type": "markdown",
   "metadata": {},
   "source": [
    "Customers are more likely to be a repeater if they have transactions that are similar to the offer."
   ]
  },
  {
   "cell_type": "code",
   "execution_count": 39,
   "metadata": {
    "collapsed": true
   },
   "outputs": [],
   "source": [
    "train_trans_collapse = train_trans.groupby('id')['repeater', 'total_match_category', 'total_match_dept', 'total_match_brand', 'total_match_company'].max()"
   ]
  },
  {
   "cell_type": "code",
   "execution_count": 40,
   "metadata": {
    "collapsed": false
   },
   "outputs": [
    {
     "data": {
      "text/html": [
       "<div>\n",
       "<table border=\"1\" class=\"dataframe\">\n",
       "  <thead>\n",
       "    <tr style=\"text-align: right;\">\n",
       "      <th></th>\n",
       "      <th>total_match_category</th>\n",
       "      <th>total_match_dept</th>\n",
       "      <th>total_match_brand</th>\n",
       "      <th>total_match_company</th>\n",
       "    </tr>\n",
       "    <tr>\n",
       "      <th>repeater</th>\n",
       "      <th></th>\n",
       "      <th></th>\n",
       "      <th></th>\n",
       "      <th></th>\n",
       "    </tr>\n",
       "  </thead>\n",
       "  <tbody>\n",
       "    <tr>\n",
       "      <th>0</th>\n",
       "      <td>0.031599</td>\n",
       "      <td>0.247824</td>\n",
       "      <td>0.022895</td>\n",
       "      <td>0.048911</td>\n",
       "    </tr>\n",
       "    <tr>\n",
       "      <th>1</th>\n",
       "      <td>0.030641</td>\n",
       "      <td>0.259312</td>\n",
       "      <td>0.034647</td>\n",
       "      <td>0.055021</td>\n",
       "    </tr>\n",
       "  </tbody>\n",
       "</table>\n",
       "</div>"
      ],
      "text/plain": [
       "          total_match_category  total_match_dept  total_match_brand  \\\n",
       "repeater                                                              \n",
       "0                     0.031599          0.247824           0.022895   \n",
       "1                     0.030641          0.259312           0.034647   \n",
       "\n",
       "          total_match_company  \n",
       "repeater                       \n",
       "0                    0.048911  \n",
       "1                    0.055021  "
      ]
     },
     "execution_count": 40,
     "metadata": {},
     "output_type": "execute_result"
    }
   ],
   "source": [
    "train_trans_collapse.groupby('repeater').mean()"
   ]
  },
  {
   "cell_type": "markdown",
   "metadata": {},
   "source": [
    "## How do returns affect the probability of being a repeater?"
   ]
  },
  {
   "cell_type": "markdown",
   "metadata": {},
   "source": [
    "It looks like customers that are not repeaters return transactions at a higher rate than customers that are repeaters."
   ]
  },
  {
   "cell_type": "code",
   "execution_count": 41,
   "metadata": {
    "collapsed": false
   },
   "outputs": [],
   "source": [
    "train_trans['return'] = np.where(train_trans['purchasequantity'] < 0, 1, 0)"
   ]
  },
  {
   "cell_type": "code",
   "execution_count": 42,
   "metadata": {
    "collapsed": true
   },
   "outputs": [],
   "source": [
    "train_trans_returns = train_trans.groupby('id')['repeater', 'return'].max()"
   ]
  },
  {
   "cell_type": "code",
   "execution_count": 43,
   "metadata": {
    "collapsed": false
   },
   "outputs": [
    {
     "data": {
      "text/html": [
       "<div>\n",
       "<table border=\"1\" class=\"dataframe\">\n",
       "  <thead>\n",
       "    <tr style=\"text-align: right;\">\n",
       "      <th></th>\n",
       "      <th>return</th>\n",
       "    </tr>\n",
       "    <tr>\n",
       "      <th>repeater</th>\n",
       "      <th></th>\n",
       "    </tr>\n",
       "  </thead>\n",
       "  <tbody>\n",
       "    <tr>\n",
       "      <th>0</th>\n",
       "      <td>0.004588</td>\n",
       "    </tr>\n",
       "    <tr>\n",
       "      <th>1</th>\n",
       "      <td>0.003315</td>\n",
       "    </tr>\n",
       "  </tbody>\n",
       "</table>\n",
       "</div>"
      ],
      "text/plain": [
       "            return\n",
       "repeater          \n",
       "0         0.004588\n",
       "1         0.003315"
      ]
     },
     "execution_count": 43,
     "metadata": {},
     "output_type": "execute_result"
    }
   ],
   "source": [
    "train_trans_returns.groupby('repeater').mean()"
   ]
  },
  {
   "cell_type": "markdown",
   "metadata": {},
   "source": [
    "## There are more repeaters in April than in March... not sure how this translates to the full data set"
   ]
  },
  {
   "cell_type": "code",
   "execution_count": 44,
   "metadata": {
    "collapsed": false
   },
   "outputs": [],
   "source": [
    "train['offer_month'] = train['offerdate'].dt.month"
   ]
  },
  {
   "cell_type": "code",
   "execution_count": 45,
   "metadata": {
    "collapsed": false
   },
   "outputs": [
    {
     "data": {
      "text/plain": [
       "offer_month\n",
       "3    0.204580\n",
       "4    0.318626\n",
       "Name: repeater, dtype: float64"
      ]
     },
     "execution_count": 45,
     "metadata": {},
     "output_type": "execute_result"
    }
   ],
   "source": [
    "train.groupby('offer_month')['repeater'].mean()"
   ]
  },
  {
   "cell_type": "markdown",
   "metadata": {},
   "source": [
    "## Day of week for repeaters don't seem too interesting. However, it seems like there is a higher rate of repeaters if the offer is on a Monday or Sunday."
   ]
  },
  {
   "cell_type": "code",
   "execution_count": 46,
   "metadata": {
    "collapsed": false
   },
   "outputs": [],
   "source": [
    "# Get day of week. 0=Monday, 6=Sunday\n",
    "train['offer_dayofweek'] = train['offerdate'].dt.dayofweek"
   ]
  },
  {
   "cell_type": "code",
   "execution_count": 47,
   "metadata": {
    "collapsed": false
   },
   "outputs": [
    {
     "data": {
      "text/plain": [
       "offer_dayofweek\n",
       "0    0.285869\n",
       "1    0.278920\n",
       "2    0.260185\n",
       "3    0.258671\n",
       "4    0.265962\n",
       "5    0.265404\n",
       "6    0.285501\n",
       "Name: repeater, dtype: float64"
      ]
     },
     "execution_count": 47,
     "metadata": {},
     "output_type": "execute_result"
    }
   ],
   "source": [
    "train.groupby('offer_dayofweek')['repeater'].mean()"
   ]
  },
  {
   "cell_type": "markdown",
   "metadata": {
    "collapsed": true
   },
   "source": [
    "## Repeaters by market area, chains and offers"
   ]
  },
  {
   "cell_type": "markdown",
   "metadata": {},
   "source": [
    "Some markets, chains and offers have higher repeaters."
   ]
  },
  {
   "cell_type": "code",
   "execution_count": 48,
   "metadata": {
    "collapsed": false
   },
   "outputs": [
    {
     "data": {
      "text/html": [
       "<div>\n",
       "<table border=\"1\" class=\"dataframe\">\n",
       "  <thead>\n",
       "    <tr style=\"text-align: right;\">\n",
       "      <th></th>\n",
       "      <th>market</th>\n",
       "      <th>sum_repeater</th>\n",
       "      <th>mean_repeater</th>\n",
       "    </tr>\n",
       "  </thead>\n",
       "  <tbody>\n",
       "    <tr>\n",
       "      <th>11</th>\n",
       "      <td>14</td>\n",
       "      <td>2373</td>\n",
       "      <td>0.446893</td>\n",
       "    </tr>\n",
       "    <tr>\n",
       "      <th>17</th>\n",
       "      <td>21</td>\n",
       "      <td>3609</td>\n",
       "      <td>0.363847</td>\n",
       "    </tr>\n",
       "    <tr>\n",
       "      <th>25</th>\n",
       "      <td>34</td>\n",
       "      <td>1273</td>\n",
       "      <td>0.314710</td>\n",
       "    </tr>\n",
       "    <tr>\n",
       "      <th>7</th>\n",
       "      <td>9</td>\n",
       "      <td>2223</td>\n",
       "      <td>0.290664</td>\n",
       "    </tr>\n",
       "    <tr>\n",
       "      <th>26</th>\n",
       "      <td>35</td>\n",
       "      <td>766</td>\n",
       "      <td>0.288839</td>\n",
       "    </tr>\n",
       "    <tr>\n",
       "      <th>8</th>\n",
       "      <td>10</td>\n",
       "      <td>11949</td>\n",
       "      <td>0.286382</td>\n",
       "    </tr>\n",
       "    <tr>\n",
       "      <th>22</th>\n",
       "      <td>27</td>\n",
       "      <td>2452</td>\n",
       "      <td>0.283239</td>\n",
       "    </tr>\n",
       "    <tr>\n",
       "      <th>2</th>\n",
       "      <td>4</td>\n",
       "      <td>1350</td>\n",
       "      <td>0.281016</td>\n",
       "    </tr>\n",
       "    <tr>\n",
       "      <th>16</th>\n",
       "      <td>20</td>\n",
       "      <td>2036</td>\n",
       "      <td>0.273729</td>\n",
       "    </tr>\n",
       "    <tr>\n",
       "      <th>6</th>\n",
       "      <td>8</td>\n",
       "      <td>1681</td>\n",
       "      <td>0.271699</td>\n",
       "    </tr>\n",
       "  </tbody>\n",
       "</table>\n",
       "</div>"
      ],
      "text/plain": [
       "    market  sum_repeater  mean_repeater\n",
       "11      14          2373       0.446893\n",
       "17      21          3609       0.363847\n",
       "25      34          1273       0.314710\n",
       "7        9          2223       0.290664\n",
       "26      35           766       0.288839\n",
       "8       10         11949       0.286382\n",
       "22      27          2452       0.283239\n",
       "2        4          1350       0.281016\n",
       "16      20          2036       0.273729\n",
       "6        8          1681       0.271699"
      ]
     },
     "execution_count": 48,
     "metadata": {},
     "output_type": "execute_result"
    }
   ],
   "source": [
    "# Group market areas and find mean and sum repeaters\n",
    "agg = {'repeater':['sum', 'mean']}\n",
    "market = train.groupby('market').agg(agg).reset_index()\n",
    "market.columns = market.columns.droplevel()\n",
    "market.columns = ['market', 'sum_repeater', 'mean_repeater']\n",
    "market.sort_values('mean_repeater', ascending=False).head(10)"
   ]
  },
  {
   "cell_type": "code",
   "execution_count": 49,
   "metadata": {
    "collapsed": false
   },
   "outputs": [
    {
     "data": {
      "text/html": [
       "<div>\n",
       "<table border=\"1\" class=\"dataframe\">\n",
       "  <thead>\n",
       "    <tr style=\"text-align: right;\">\n",
       "      <th></th>\n",
       "      <th>chain</th>\n",
       "      <th>sum_repeater</th>\n",
       "      <th>mean_repeater</th>\n",
       "    </tr>\n",
       "  </thead>\n",
       "  <tbody>\n",
       "    <tr>\n",
       "      <th>90</th>\n",
       "      <td>362</td>\n",
       "      <td>1</td>\n",
       "      <td>1.000000</td>\n",
       "    </tr>\n",
       "    <tr>\n",
       "      <th>34</th>\n",
       "      <td>81</td>\n",
       "      <td>1</td>\n",
       "      <td>1.000000</td>\n",
       "    </tr>\n",
       "    <tr>\n",
       "      <th>115</th>\n",
       "      <td>405</td>\n",
       "      <td>3</td>\n",
       "      <td>1.000000</td>\n",
       "    </tr>\n",
       "    <tr>\n",
       "      <th>59</th>\n",
       "      <td>161</td>\n",
       "      <td>1</td>\n",
       "      <td>1.000000</td>\n",
       "    </tr>\n",
       "    <tr>\n",
       "      <th>62</th>\n",
       "      <td>166</td>\n",
       "      <td>1904</td>\n",
       "      <td>0.544155</td>\n",
       "    </tr>\n",
       "    <tr>\n",
       "      <th>87</th>\n",
       "      <td>313</td>\n",
       "      <td>6</td>\n",
       "      <td>0.500000</td>\n",
       "    </tr>\n",
       "    <tr>\n",
       "      <th>48</th>\n",
       "      <td>115</td>\n",
       "      <td>3</td>\n",
       "      <td>0.500000</td>\n",
       "    </tr>\n",
       "    <tr>\n",
       "      <th>26</th>\n",
       "      <td>64</td>\n",
       "      <td>2781</td>\n",
       "      <td>0.472236</td>\n",
       "    </tr>\n",
       "    <tr>\n",
       "      <th>124</th>\n",
       "      <td>521</td>\n",
       "      <td>5</td>\n",
       "      <td>0.454545</td>\n",
       "    </tr>\n",
       "    <tr>\n",
       "      <th>5</th>\n",
       "      <td>9</td>\n",
       "      <td>3</td>\n",
       "      <td>0.428571</td>\n",
       "    </tr>\n",
       "  </tbody>\n",
       "</table>\n",
       "</div>"
      ],
      "text/plain": [
       "     chain  sum_repeater  mean_repeater\n",
       "90     362             1       1.000000\n",
       "34      81             1       1.000000\n",
       "115    405             3       1.000000\n",
       "59     161             1       1.000000\n",
       "62     166          1904       0.544155\n",
       "87     313             6       0.500000\n",
       "48     115             3       0.500000\n",
       "26      64          2781       0.472236\n",
       "124    521             5       0.454545\n",
       "5        9             3       0.428571"
      ]
     },
     "execution_count": 49,
     "metadata": {},
     "output_type": "execute_result"
    }
   ],
   "source": [
    "# Group chains and find mean and sum repeaters\n",
    "agg = {'repeater':['sum', 'mean']}\n",
    "chain = train.groupby('chain').agg(agg).reset_index()\n",
    "chain.columns = chain.columns.droplevel()\n",
    "chain.columns = ['chain', 'sum_repeater', 'mean_repeater']\n",
    "chain.sort_values('mean_repeater', ascending=False).head(10)"
   ]
  },
  {
   "cell_type": "code",
   "execution_count": 50,
   "metadata": {
    "collapsed": false
   },
   "outputs": [
    {
     "data": {
      "text/html": [
       "<div>\n",
       "<table border=\"1\" class=\"dataframe\">\n",
       "  <thead>\n",
       "    <tr style=\"text-align: right;\">\n",
       "      <th></th>\n",
       "      <th>offer</th>\n",
       "      <th>sum_repeater</th>\n",
       "      <th>mean_repeater</th>\n",
       "    </tr>\n",
       "  </thead>\n",
       "  <tbody>\n",
       "    <tr>\n",
       "      <th>0</th>\n",
       "      <td>1194044</td>\n",
       "      <td>3453</td>\n",
       "      <td>0.507048</td>\n",
       "    </tr>\n",
       "    <tr>\n",
       "      <th>21</th>\n",
       "      <td>1208329</td>\n",
       "      <td>8152</td>\n",
       "      <td>0.434379</td>\n",
       "    </tr>\n",
       "    <tr>\n",
       "      <th>15</th>\n",
       "      <td>1203052</td>\n",
       "      <td>6497</td>\n",
       "      <td>0.423616</td>\n",
       "    </tr>\n",
       "    <tr>\n",
       "      <th>22</th>\n",
       "      <td>1208501</td>\n",
       "      <td>2510</td>\n",
       "      <td>0.377841</td>\n",
       "    </tr>\n",
       "    <tr>\n",
       "      <th>23</th>\n",
       "      <td>1208503</td>\n",
       "      <td>823</td>\n",
       "      <td>0.341069</td>\n",
       "    </tr>\n",
       "    <tr>\n",
       "      <th>19</th>\n",
       "      <td>1208251</td>\n",
       "      <td>4823</td>\n",
       "      <td>0.320934</td>\n",
       "    </tr>\n",
       "    <tr>\n",
       "      <th>20</th>\n",
       "      <td>1208252</td>\n",
       "      <td>1034</td>\n",
       "      <td>0.304745</td>\n",
       "    </tr>\n",
       "    <tr>\n",
       "      <th>16</th>\n",
       "      <td>1204576</td>\n",
       "      <td>2075</td>\n",
       "      <td>0.284519</td>\n",
       "    </tr>\n",
       "    <tr>\n",
       "      <th>13</th>\n",
       "      <td>1200584</td>\n",
       "      <td>51</td>\n",
       "      <td>0.229730</td>\n",
       "    </tr>\n",
       "    <tr>\n",
       "      <th>3</th>\n",
       "      <td>1198272</td>\n",
       "      <td>412</td>\n",
       "      <td>0.214137</td>\n",
       "    </tr>\n",
       "  </tbody>\n",
       "</table>\n",
       "</div>"
      ],
      "text/plain": [
       "      offer  sum_repeater  mean_repeater\n",
       "0   1194044          3453       0.507048\n",
       "21  1208329          8152       0.434379\n",
       "15  1203052          6497       0.423616\n",
       "22  1208501          2510       0.377841\n",
       "23  1208503           823       0.341069\n",
       "19  1208251          4823       0.320934\n",
       "20  1208252          1034       0.304745\n",
       "16  1204576          2075       0.284519\n",
       "13  1200584            51       0.229730\n",
       "3   1198272           412       0.214137"
      ]
     },
     "execution_count": 50,
     "metadata": {},
     "output_type": "execute_result"
    }
   ],
   "source": [
    "# Group offers and find mean and sum repeaters\n",
    "agg = {'repeater':['sum', 'mean']}\n",
    "offer_grp = train.groupby('offer').agg(agg).reset_index()\n",
    "offer_grp.columns = offer_grp.columns.droplevel()\n",
    "offer_grp.columns = ['offer', 'sum_repeater', 'mean_repeater']\n",
    "offer_grp.sort_values('mean_repeater', ascending=False).head(10)"
   ]
  },
  {
   "cell_type": "markdown",
   "metadata": {},
   "source": [
    "# Purchase amount"
   ]
  },
  {
   "cell_type": "code",
   "execution_count": 56,
   "metadata": {
    "collapsed": false
   },
   "outputs": [
    {
     "data": {
      "text/plain": [
       "repeater\n",
       "0    1.269467\n",
       "1    1.217350\n",
       "Name: offervalue, dtype: float64"
      ]
     },
     "execution_count": 56,
     "metadata": {},
     "output_type": "execute_result"
    }
   ],
   "source": [
    "train.groupby('repeater')['offervalue'].mean()"
   ]
  },
  {
   "cell_type": "code",
   "execution_count": 55,
   "metadata": {
    "collapsed": false
   },
   "outputs": [
    {
     "data": {
      "image/png": "[encoded data removed]",
      "text/plain": [
       "<matplotlib.figure.Figure at 0x117989910>"
      ]
     },
     "metadata": {},
     "output_type": "display_data"
    }
   ],
   "source": [
    "sns.boxplot(x='repeater', y='offervalue', data=train)\n",
    "sns.plt.show()"
   ]
  },
  {
   "cell_type": "code",
   "execution_count": 54,
   "metadata": {
    "collapsed": false
   },
   "outputs": [
    {
     "data": {
      "text/html": [
       "<div>\n",
       "<table border=\"1\" class=\"dataframe\">\n",
       "  <thead>\n",
       "    <tr style=\"text-align: right;\">\n",
       "      <th></th>\n",
       "      <th>id</th>\n",
       "      <th>chain</th>\n",
       "      <th>offer</th>\n",
       "      <th>market</th>\n",
       "      <th>repeattrips</th>\n",
       "      <th>repeater</th>\n",
       "      <th>offerdate</th>\n",
       "      <th>offer_category</th>\n",
       "      <th>quantity</th>\n",
       "      <th>offer_company</th>\n",
       "      <th>offervalue</th>\n",
       "      <th>offer_brand</th>\n",
       "      <th>offer_dept</th>\n",
       "      <th>counts</th>\n",
       "      <th>offer_month</th>\n",
       "      <th>offer_dayofweek</th>\n",
       "    </tr>\n",
       "  </thead>\n",
       "  <tbody>\n",
       "    <tr>\n",
       "      <th>0</th>\n",
       "      <td>86246</td>\n",
       "      <td>205</td>\n",
       "      <td>1208251</td>\n",
       "      <td>34</td>\n",
       "      <td>5</td>\n",
       "      <td>1</td>\n",
       "      <td>2013-04-24</td>\n",
       "      <td>2202</td>\n",
       "      <td>1</td>\n",
       "      <td>104460040</td>\n",
       "      <td>2.00</td>\n",
       "      <td>3718</td>\n",
       "      <td>22</td>\n",
       "      <td>12609.0</td>\n",
       "      <td>4</td>\n",
       "      <td>2</td>\n",
       "    </tr>\n",
       "    <tr>\n",
       "      <th>1</th>\n",
       "      <td>86252</td>\n",
       "      <td>205</td>\n",
       "      <td>1197502</td>\n",
       "      <td>34</td>\n",
       "      <td>16</td>\n",
       "      <td>1</td>\n",
       "      <td>2013-03-27</td>\n",
       "      <td>3203</td>\n",
       "      <td>1</td>\n",
       "      <td>106414464</td>\n",
       "      <td>0.75</td>\n",
       "      <td>13474</td>\n",
       "      <td>32</td>\n",
       "      <td>12087.0</td>\n",
       "      <td>3</td>\n",
       "      <td>2</td>\n",
       "    </tr>\n",
       "    <tr>\n",
       "      <th>2</th>\n",
       "      <td>12682470</td>\n",
       "      <td>18</td>\n",
       "      <td>1197502</td>\n",
       "      <td>11</td>\n",
       "      <td>0</td>\n",
       "      <td>0</td>\n",
       "      <td>2013-03-28</td>\n",
       "      <td>3203</td>\n",
       "      <td>1</td>\n",
       "      <td>106414464</td>\n",
       "      <td>0.75</td>\n",
       "      <td>13474</td>\n",
       "      <td>32</td>\n",
       "      <td>806.0</td>\n",
       "      <td>3</td>\n",
       "      <td>3</td>\n",
       "    </tr>\n",
       "    <tr>\n",
       "      <th>3</th>\n",
       "      <td>12996040</td>\n",
       "      <td>15</td>\n",
       "      <td>1197502</td>\n",
       "      <td>9</td>\n",
       "      <td>0</td>\n",
       "      <td>0</td>\n",
       "      <td>2013-03-25</td>\n",
       "      <td>3203</td>\n",
       "      <td>1</td>\n",
       "      <td>106414464</td>\n",
       "      <td>0.75</td>\n",
       "      <td>13474</td>\n",
       "      <td>32</td>\n",
       "      <td>326.0</td>\n",
       "      <td>3</td>\n",
       "      <td>0</td>\n",
       "    </tr>\n",
       "    <tr>\n",
       "      <th>4</th>\n",
       "      <td>13089312</td>\n",
       "      <td>15</td>\n",
       "      <td>1204821</td>\n",
       "      <td>9</td>\n",
       "      <td>0</td>\n",
       "      <td>0</td>\n",
       "      <td>2013-04-01</td>\n",
       "      <td>5619</td>\n",
       "      <td>1</td>\n",
       "      <td>107717272</td>\n",
       "      <td>1.50</td>\n",
       "      <td>102504</td>\n",
       "      <td>56</td>\n",
       "      <td>1218.0</td>\n",
       "      <td>4</td>\n",
       "      <td>0</td>\n",
       "    </tr>\n",
       "  </tbody>\n",
       "</table>\n",
       "</div>"
      ],
      "text/plain": [
       "         id  chain    offer  market  repeattrips  repeater  offerdate  \\\n",
       "0     86246    205  1208251      34            5         1 2013-04-24   \n",
       "1     86252    205  1197502      34           16         1 2013-03-27   \n",
       "2  12682470     18  1197502      11            0         0 2013-03-28   \n",
       "3  12996040     15  1197502       9            0         0 2013-03-25   \n",
       "4  13089312     15  1204821       9            0         0 2013-04-01   \n",
       "\n",
       "   offer_category  quantity  offer_company  offervalue  offer_brand  \\\n",
       "0            2202         1      104460040        2.00         3718   \n",
       "1            3203         1      106414464        0.75        13474   \n",
       "2            3203         1      106414464        0.75        13474   \n",
       "3            3203         1      106414464        0.75        13474   \n",
       "4            5619         1      107717272        1.50       102504   \n",
       "\n",
       "   offer_dept   counts  offer_month  offer_dayofweek  \n",
       "0          22  12609.0            4                2  \n",
       "1          32  12087.0            3                2  \n",
       "2          32    806.0            3                3  \n",
       "3          32    326.0            3                0  \n",
       "4          56   1218.0            4                0  "
      ]
     },
     "execution_count": 54,
     "metadata": {},
     "output_type": "execute_result"
    }
   ],
   "source": [
    "train.head()"
   ]
  },
  {
   "cell_type": "code",
   "execution_count": null,
   "metadata": {
    "collapsed": true
   },
   "outputs": [],
   "source": []
  }
 ],
 "metadata": {
  "anaconda-cloud": {},
  "kernelspec": {
   "display_name": "Python [conda root]",
   "language": "python",
   "name": "conda-root-py"
  },
  "language_info": {
   "codemirror_mode": {
    "name": "ipython",
    "version": 2
   },
   "file_extension": ".py",
   "mimetype": "text/x-python",
   "name": "python",
   "nbconvert_exporter": "python",
   "pygments_lexer": "ipython2",
   "version": "2.7.12"
  }
 },
 "nbformat": 4,
 "nbformat_minor": 1
}
