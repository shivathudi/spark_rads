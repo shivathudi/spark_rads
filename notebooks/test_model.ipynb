{
 "cells": [
  {
   "cell_type": "code",
   "execution_count": 65,
   "metadata": {
    "collapsed": true
   },
   "outputs": [],
   "source": [
    "import pandas as pd\n",
    "import numpy as np\n",
    "from datetime import datetime\n",
    "import pyspark.sql.functions as F\n",
    "from pyspark.sql import Row\n",
    "from pyspark.sql.types import *\n",
    "from pyspark.ml import Pipeline\n",
    "from pyspark.ml.feature import StringIndexer, OneHotEncoder, VectorAssembler\n",
    "from pyspark.ml.classification import LogisticRegression\n",
    "from pyspark.ml.tuning import CrossValidator, ParamGridBuilder\n",
    "from pyspark.ml.evaluation import BinaryClassificationEvaluator"
   ]
  },
  {
   "cell_type": "markdown",
   "metadata": {},
   "source": [
    "### Skip this cell if you already have a chunk of the transactions data."
   ]
  },
  {
   "cell_type": "code",
   "execution_count": 66,
   "metadata": {
    "collapsed": true
   },
   "outputs": [],
   "source": [
    "#file_name = '../data/transactions.csv'\n",
    "#chunksize = 10 ** 5\n",
    "#chunk_iter = pd.read_csv(file_name, chunksize=chunksize)\n",
    "#chunk1 = chunk_iter.next()\n",
    "#chunk1.to_csv('../data/transactions_chunk1.csv', index=False)"
   ]
  },
  {
   "cell_type": "code",
   "execution_count": 67,
   "metadata": {
    "collapsed": true
   },
   "outputs": [],
   "source": [
    "file_name = '../data/transactions_chunk1.csv'\n",
    "lines = sc.textFile(file_name)"
   ]
  },
  {
   "cell_type": "code",
   "execution_count": 68,
   "metadata": {
    "collapsed": false
   },
   "outputs": [],
   "source": [
    "header = lines.first()\n",
    "lines = lines.filter(lambda row: row != header)"
   ]
  },
  {
   "cell_type": "code",
   "execution_count": 69,
   "metadata": {
    "collapsed": true
   },
   "outputs": [],
   "source": [
    "# Functions for parsing the strings from the CSV file\n",
    "\n",
    "def toIntSafe(inval):\n",
    "  try:\n",
    "    return int(inval)\n",
    "  except ValueError:\n",
    "    return None\n",
    "\n",
    "def toTimeSafe(inval):\n",
    "  try:\n",
    "    return datetime.strptime(inval, \"%Y-%m-%d\")\n",
    "  except ValueError:\n",
    "    return None\n",
    "\n",
    "def toLongSafe(inval):\n",
    "  try:\n",
    "    return long(inval)\n",
    "  except ValueError:\n",
    "    return None\n",
    "\n",
    "def toFloatSafe(inval):\n",
    "  try:\n",
    "    return float(inval)\n",
    "  except ValueError:\n",
    "    return None\n",
    "    \n",
    "def stringToPost(row):\n",
    "  r = row.encode('utf8').split(',')\n",
    "  return Row(\n",
    "    int(r[0]),         # Don't want this column to be nullable\n",
    "    toLongSafe(r[1]),\n",
    "    toLongSafe(r[2]),\n",
    "    toLongSafe(r[3]),\n",
    "    toLongSafe(r[4]),\n",
    "    toLongSafe(r[5]),\n",
    "    toTimeSafe(r[6]),\n",
    "    toFloatSafe(r[7]),\n",
    "    r[8],\n",
    "    toLongSafe(r[9]),\n",
    "    toFloatSafe(r[10]))  "
   ]
  },
  {
   "cell_type": "code",
   "execution_count": 70,
   "metadata": {
    "collapsed": false
   },
   "outputs": [],
   "source": [
    "transactions_schema = StructType([\n",
    "    StructField(\"id\", LongType(), False),\n",
    "    StructField(\"chain\", LongType(), True),\n",
    "    StructField(\"dept\", LongType(), True),\n",
    "    StructField(\"category\", LongType(), True),\n",
    "    StructField(\"company\", LongType(), True),\n",
    "    StructField(\"brand\", LongType(), True),\n",
    "    StructField(\"date\", DateType(), True),\n",
    "    StructField(\"productsize\", DoubleType(), True),\n",
    "    StructField(\"purchasemeasure\", StringType(), True),\n",
    "    StructField(\"purchasequantity\", LongType(), True),\n",
    "    StructField(\"purchaseamount\", DoubleType(), True)\n",
    "    ])"
   ]
  },
  {
   "cell_type": "code",
   "execution_count": 71,
   "metadata": {
    "collapsed": true
   },
   "outputs": [],
   "source": [
    "rowRDD = lines.map(lambda p: stringToPost(p))"
   ]
  },
  {
   "cell_type": "code",
   "execution_count": 72,
   "metadata": {
    "collapsed": false
   },
   "outputs": [],
   "source": [
    "transactions = sqlContext.createDataFrame(rowRDD, transactions_schema)"
   ]
  },
  {
   "cell_type": "code",
   "execution_count": 73,
   "metadata": {
    "collapsed": false
   },
   "outputs": [
    {
     "name": "stdout",
     "output_type": "stream",
     "text": [
      "root\n",
      " |-- id: long (nullable = false)\n",
      " |-- chain: long (nullable = true)\n",
      " |-- dept: long (nullable = true)\n",
      " |-- category: long (nullable = true)\n",
      " |-- company: long (nullable = true)\n",
      " |-- brand: long (nullable = true)\n",
      " |-- date: date (nullable = true)\n",
      " |-- productsize: double (nullable = true)\n",
      " |-- purchasemeasure: string (nullable = true)\n",
      " |-- purchasequantity: long (nullable = true)\n",
      " |-- purchaseamount: double (nullable = true)\n",
      "\n"
     ]
    }
   ],
   "source": [
    "transactions.printSchema()"
   ]
  },
  {
   "cell_type": "code",
   "execution_count": 74,
   "metadata": {
    "collapsed": false
   },
   "outputs": [
    {
     "name": "stdout",
     "output_type": "stream",
     "text": [
      "+-----+-----+----+--------+----------+-----+----------+-----------+---------------+----------------+--------------+\n",
      "|   id|chain|dept|category|   company|brand|      date|productsize|purchasemeasure|purchasequantity|purchaseamount|\n",
      "+-----+-----+----+--------+----------+-----+----------+-----------+---------------+----------------+--------------+\n",
      "|86246|  205|   7|     707|1078778070|12564|2012-03-02|       12.0|             OZ|               1|          7.59|\n",
      "|86246|  205|  63|    6319| 107654575|17876|2012-03-02|       64.0|             OZ|               1|          1.59|\n",
      "|86246|  205|  97|    9753|1022027929|    0|2012-03-02|        1.0|             CT|               1|          5.99|\n",
      "|86246|  205|  25|    2509| 107996777|31373|2012-03-02|       16.0|             OZ|               1|          1.99|\n",
      "|86246|  205|  55|    5555| 107684070|32094|2012-03-02|       16.0|             OZ|               2|         10.38|\n",
      "|86246|  205|  97|    9753|1021015020|    0|2012-03-02|        1.0|             CT|               1|           7.8|\n",
      "|86246|  205|  99|    9909| 104538848|15343|2012-03-02|       16.0|             OZ|               1|          2.49|\n",
      "|86246|  205|  59|    5907| 102900020| 2012|2012-03-02|       16.0|             OZ|               1|          1.39|\n",
      "|86246|  205|   9|     921| 101128414| 9209|2012-03-02|        4.0|             OZ|               2|           1.5|\n",
      "|86246|  205|  73|    7344|1068142161|20285|2012-03-02|        8.0|             CT|               1|          5.79|\n",
      "|86246|  205|  41|    4107| 104113040|28204|2012-03-02|       14.5|             OZ|               1|          0.59|\n",
      "|86246|  205|  21|    2106| 105100050|27873|2012-03-02|       64.0|             OZ|               1|          3.29|\n",
      "|86246|  205|   8|     814| 102840020|18584|2012-03-02|       15.5|             OZ|               1|          3.29|\n",
      "|86246|  205|  91|    9122| 108200080| 2911|2012-03-02|       10.0|             OZ|               1|          1.99|\n",
      "|86246|  205|  41|    4120| 101116616|15266|2012-03-02|        6.0|             OZ|               1|          0.89|\n",
      "|86246|  205|  63|    6315| 107996777|31373|2012-03-02|       64.0|             OZ|               1|          3.59|\n",
      "|86246|  205|   9|     907| 101410010|13791|2012-03-02|       24.0|             OZ|               1|          3.99|\n",
      "|86246|  205|  97|    9753|1021013323|    0|2012-03-02|        1.0|             CT|               1|          8.87|\n",
      "|86246|  205|  45|    4509|1082650484|59628|2012-03-02|       16.0|             OZ|               1|          4.99|\n",
      "|86246|  205|  26|    2630| 103700030|14647|2012-03-02|       56.0|             CT|               1|           1.0|\n",
      "+-----+-----+----+--------+----------+-----+----------+-----------+---------------+----------------+--------------+\n",
      "only showing top 20 rows\n",
      "\n"
     ]
    }
   ],
   "source": [
    "transactions.show()"
   ]
  },
  {
   "cell_type": "markdown",
   "metadata": {},
   "source": [
    "# Training data and testing data"
   ]
  },
  {
   "cell_type": "code",
   "execution_count": 75,
   "metadata": {
    "collapsed": true
   },
   "outputs": [],
   "source": [
    "train = pd.read_csv('../data/trainHistory.csv')\n",
    "offers = pd.read_csv('../data/offers.csv')"
   ]
  },
  {
   "cell_type": "code",
   "execution_count": 76,
   "metadata": {
    "collapsed": false
   },
   "outputs": [],
   "source": [
    "# Add department to offers\n",
    "dept = []\n",
    "for i in range(offers.shape[0]):\n",
    "    str_category = str(offers['category'].iloc[i])\n",
    "    if len(str_category) == 4:\n",
    "        dept.append(str_category[:2])\n",
    "    else:\n",
    "        dept.append(str_category[:1])\n",
    "        \n",
    "offers['dept'] = dept\n",
    "offers['dept'] = pd.to_numeric(offers['dept'])"
   ]
  },
  {
   "cell_type": "code",
   "execution_count": 77,
   "metadata": {
    "collapsed": false
   },
   "outputs": [],
   "source": [
    "train = pd.merge(train, offers, how='left', on=['offer'])"
   ]
  },
  {
   "cell_type": "code",
   "execution_count": 78,
   "metadata": {
    "collapsed": true
   },
   "outputs": [],
   "source": [
    "# Rename columns\n",
    "train.columns = ['id', 'chain', 'offer', 'market', 'repeattrips', 'repeater', 'offerdate', \n",
    "                 'offer_category', 'quantity', 'offer_company', 'offervalue', 'offer_brand',\n",
    "                 'offer_dept']"
   ]
  },
  {
   "cell_type": "code",
   "execution_count": 79,
   "metadata": {
    "collapsed": true
   },
   "outputs": [],
   "source": [
    "# Reencode the target variable\n",
    "train['repeater'] = np.where(train['repeater'] == 't', '1', '0')\n",
    "train['repeater'] = pd.to_numeric(train['repeater'])"
   ]
  },
  {
   "cell_type": "code",
   "execution_count": 80,
   "metadata": {
    "collapsed": true
   },
   "outputs": [],
   "source": [
    "train['offerdate'] = train['offerdate'].astype(str)"
   ]
  },
  {
   "cell_type": "code",
   "execution_count": 81,
   "metadata": {
    "collapsed": true
   },
   "outputs": [],
   "source": [
    "train_schema = StructType([\n",
    "    StructField(\"id\", LongType(), False),\n",
    "    StructField(\"offer_chain\", LongType(), True),\n",
    "    StructField(\"offer\", LongType(), True),\n",
    "    StructField(\"market\", LongType(), True),\n",
    "    StructField(\"repeattrips\", LongType(), True),\n",
    "    StructField(\"repeater\", IntegerType(), True),\n",
    "    StructField(\"offerdate\", StringType(), True),\n",
    "    StructField(\"offer_category\", LongType(), True),\n",
    "    StructField(\"quantity\", LongType(), True),\n",
    "    StructField(\"offer_company\", LongType(), True),\n",
    "    StructField(\"offervalue\", DoubleType(), True),\n",
    "    StructField(\"offer_brand\", LongType(), True),\n",
    "    StructField(\"offer_dept\", LongType(), True)\n",
    "    ])"
   ]
  },
  {
   "cell_type": "code",
   "execution_count": 82,
   "metadata": {
    "collapsed": true
   },
   "outputs": [],
   "source": [
    "train_df = sqlContext.createDataFrame(train, train_schema)"
   ]
  },
  {
   "cell_type": "code",
   "execution_count": 83,
   "metadata": {
    "collapsed": true
   },
   "outputs": [],
   "source": [
    "test = pd.read_csv('../data/testHistory.csv')\n",
    "test = pd.merge(test, offers, how='left', on=['offer'])"
   ]
  },
  {
   "cell_type": "code",
   "execution_count": 84,
   "metadata": {
    "collapsed": true
   },
   "outputs": [],
   "source": [
    "# Rename columns\n",
    "test.columns = ['id', 'chain', 'offer', 'market', 'offerdate', 'offer_category', 'quantity', \n",
    "                'offer_company', 'offervalue', 'offer_brand', 'offer_dept']"
   ]
  },
  {
   "cell_type": "code",
   "execution_count": 85,
   "metadata": {
    "collapsed": true
   },
   "outputs": [],
   "source": [
    "test['offerdate'] = test['offerdate'].astype(str)"
   ]
  },
  {
   "cell_type": "code",
   "execution_count": 86,
   "metadata": {
    "collapsed": true
   },
   "outputs": [],
   "source": [
    "test_schema = StructType([\n",
    "    StructField(\"id\", LongType(), False),\n",
    "    StructField(\"offer_chain\", LongType(), True),\n",
    "    StructField(\"offer\", LongType(), True),\n",
    "    StructField(\"market\", LongType(), True),\n",
    "    StructField(\"offerdate\", StringType(), True),\n",
    "    StructField(\"offer_category\", LongType(), True),\n",
    "    StructField(\"quantity\", LongType(), True),\n",
    "    StructField(\"offer_company\", LongType(), True),\n",
    "    StructField(\"offervalue\", DoubleType(), True),\n",
    "    StructField(\"offer_brand\", LongType(), True),\n",
    "    StructField(\"offer_dept\", LongType(), True)\n",
    "    ])"
   ]
  },
  {
   "cell_type": "code",
   "execution_count": 87,
   "metadata": {
    "collapsed": true
   },
   "outputs": [],
   "source": [
    "test_df = sqlContext.createDataFrame(test, test_schema)"
   ]
  },
  {
   "cell_type": "code",
   "execution_count": 88,
   "metadata": {
    "collapsed": true
   },
   "outputs": [],
   "source": [
    "# This function converts the string cell into a date:\n",
    "stringToDate = F.udf(lambda x: datetime.strptime(x, '%Y-%m-%d'), DateType())"
   ]
  },
  {
   "cell_type": "code",
   "execution_count": 89,
   "metadata": {
    "collapsed": false
   },
   "outputs": [],
   "source": [
    "# Convert offerdate to date type\n",
    "train_df = train_df.withColumn('offerdate', stringToDate(F.col('offerdate')))\n",
    "test_df = test_df.withColumn('offerdate', stringToDate(F.col('offerdate')))"
   ]
  },
  {
   "cell_type": "code",
   "execution_count": 90,
   "metadata": {
    "collapsed": true
   },
   "outputs": [],
   "source": [
    "train_df = train_df.withColumnRenamed('repeater', 'label')"
   ]
  },
  {
   "cell_type": "markdown",
   "metadata": {},
   "source": [
    "# Feature Engineering"
   ]
  },
  {
   "cell_type": "markdown",
   "metadata": {},
   "source": [
    "### Get number of refund transactions and total transactions"
   ]
  },
  {
   "cell_type": "code",
   "execution_count": 91,
   "metadata": {
    "collapsed": false
   },
   "outputs": [
    {
     "name": "stdout",
     "output_type": "stream",
     "text": [
      "+--------+-----------+-------------+--------------------+------------------+\n",
      "|      id|total_trans|total_returns|avg_purchasequantity|avg_purchaseamount|\n",
      "+--------+-----------+-------------+--------------------+------------------+\n",
      "|18470775|        350|            8|                1.34|3.1511428571428635|\n",
      "|14723452|        755|            5|  1.2264900662251657| 4.073933774834406|\n",
      "|15738658|         39|            0|   1.205128205128205| 4.780000000000001|\n",
      "|17552659|        591|            4|  1.5245346869712353| 4.931455160744474|\n",
      "|12996040|        326|            5|  1.2331288343558282|4.7280981595092095|\n",
      "|16078766|        966|           54|   1.818840579710145| 5.298498964803263|\n",
      "|18249735|       1557|           60|  1.2594733461785486|  4.13752087347458|\n",
      "|14989775|        614|           39|   1.231270358306189|3.8022475570032475|\n",
      "|15073302|        526|           38|  1.3669201520912548| 4.640133079847899|\n",
      "|16075389|        591|           32|  1.9593908629441625| 7.553604060913664|\n",
      "|16606739|        678|            6|  1.2905604719764012|5.6328908554571955|\n",
      "|15705695|        431|            8|   1.357308584686775| 5.145730858468677|\n",
      "|14576147|        817|           66|  1.5960832313341493| 3.623157894736831|\n",
      "|15134033|        944|           13|  1.7997881355932204| 5.452923728813514|\n",
      "|16551772|       1699|           47|  1.4096527369040612| 4.735797527957543|\n",
      "|17652157|       1407|           15|  1.2224591329068941| 4.885799573560684|\n",
      "|13089312|       1218|           52|  1.2060755336617406| 3.194318555008175|\n",
      "|13744500|       2232|          112|   1.260304659498208| 4.279466845878071|\n",
      "|16829614|        738|           10|  1.2357723577235773|3.0218834688346874|\n",
      "|17524817|        328|            7|  1.3567073170731707|3.6432926829268335|\n",
      "+--------+-----------+-------------+--------------------+------------------+\n",
      "only showing top 20 rows\n",
      "\n"
     ]
    }
   ],
   "source": [
    "id_stats = transactions.select('id', 'purchasequantity', 'purchaseamount',\n",
    "                              F.when(transactions['purchaseamount'] < 0, 1).otherwise(0).alias('return'))\\\n",
    "                      .withColumn('1', F.lit(1))\n",
    "id_stats = id_stats.groupBy('id').agg(F.sum('1').alias('total_trans'), \n",
    "                                      F.sum('return').alias('total_returns'),\n",
    "                                      F.avg('purchasequantity').alias('avg_purchasequantity'),\n",
    "                                      F.avg('purchaseamount').alias('avg_purchaseamount'))\n",
    "id_stats.show()"
   ]
  },
  {
   "cell_type": "code",
   "execution_count": 92,
   "metadata": {
    "collapsed": true
   },
   "outputs": [],
   "source": [
    "# Rename id column of returns table to avoid ambiguous column names\n",
    "id_stats = id_stats.withColumnRenamed('id', 'returns_id')"
   ]
  },
  {
   "cell_type": "code",
   "execution_count": 93,
   "metadata": {
    "collapsed": false
   },
   "outputs": [],
   "source": [
    "train_df = train_df.join(id_stats, train_df['id'] == id_stats['returns_id'], 'left')\n",
    "test_df = test_df.join(id_stats, test_df['id'] == id_stats['returns_id'], 'left')"
   ]
  },
  {
   "cell_type": "code",
   "execution_count": 94,
   "metadata": {
    "collapsed": false
   },
   "outputs": [],
   "source": [
    "train_df = train_df.select('offer', 'offer_category', 'offer_brand', 'offer_company', 'offervalue', 'offer_dept',\n",
    "                           'offer_chain',\n",
    "                           'total_trans', 'total_returns', 'avg_purchasequantity', 'avg_purchaseamount', 'label', 'id')\n",
    "test_df = test_df.select('offer', 'offer_category', 'offer_brand', 'offer_company', 'offervalue', 'offer_dept',\n",
    "                         'offer_chain',\n",
    "                         'total_trans', 'total_returns', 'avg_purchasequantity', 'avg_purchaseamount', 'id')"
   ]
  },
  {
   "cell_type": "code",
   "execution_count": 95,
   "metadata": {
    "collapsed": false
   },
   "outputs": [],
   "source": [
    "# Get average value for imputations\n",
    "avg_total_trans = id_stats.agg(F.avg(F.col('total_trans'))).first()[0]\n",
    "avg_total_returns = id_stats.agg(F.avg(F.col('total_returns'))).first()[0]\n",
    "avg_avg_purchasequantity = id_stats.agg(F.avg(F.col('avg_purchasequantity'))).first()[0]\n",
    "avg_avg_purchaseamount = id_stats.agg(F.avg(F.col('avg_purchaseamount'))).first()[0]\n",
    "\n",
    "# Impute missing data\n",
    "impute_dict = {'total_trans': avg_total_trans, 'total_returns': avg_total_returns,\n",
    "               'avg_purchasequantity': avg_avg_purchasequantity,\n",
    "               'avg_purchaseamount': avg_avg_purchaseamount}\n",
    "train_df = train_df.fillna(impute_dict)\n",
    "test_df = test_df.fillna(impute_dict)"
   ]
  },
  {
   "cell_type": "markdown",
   "metadata": {},
   "source": [
    "### Get number of transactions that match the offers"
   ]
  },
  {
   "cell_type": "code",
   "execution_count": 96,
   "metadata": {
    "collapsed": false
   },
   "outputs": [],
   "source": [
    "train_trans_agg = train_df.join(transactions, \n",
    "                            (train_df.id == transactions.id) & (train_df.offer_chain == transactions.chain), \n",
    "                            \"left\") \\\n",
    "                          .select(train_df[\"id\"], \"offer_dept\", \"dept\", \"offer_company\", \"company\", \n",
    "                                  \"offer_brand\", \"brand\", \"offer_category\", \"category\") \\\n",
    "                          .withColumn(\"matchDeptCount\", F.expr(\"case when offer_dept = dept then 1 else 0 end\")) \\\n",
    "                          .withColumn(\"matchCategoryCount\", F.expr(\"case when offer_category = category then 1 else 0 end\")) \\\n",
    "                          .withColumn(\"matchCompanyCount\", F.expr(\"case when offer_company = company then 1 else 0 end\")) \\\n",
    "                          .withColumn(\"matchBrandCount\", F.expr(\"case when offer_brand = brand then 1 else 0 end\")) \\\n",
    "                          .groupBy(\"id\") \\\n",
    "                          .agg(F.sum(\"matchDeptCount\").alias(\"matchDeptCount\"),\n",
    "                               F.sum(\"matchCategoryCount\").alias(\"matchCategoryCount\"),\n",
    "                               F.sum(\"matchCompanyCount\").alias(\"matchCompanyCount\"),\n",
    "                               F.sum(\"matchBrandCount\").alias(\"matchBrandCount\"))"
   ]
  },
  {
   "cell_type": "code",
   "execution_count": 97,
   "metadata": {
    "collapsed": true
   },
   "outputs": [],
   "source": [
    "train_df = train_df.join(train_trans_agg, train_df.id == train_trans_agg.id, \"left\").drop(train_trans_agg.id)"
   ]
  },
  {
   "cell_type": "code",
   "execution_count": 98,
   "metadata": {
    "collapsed": true
   },
   "outputs": [],
   "source": [
    "test_trans_agg = test_df.join(transactions, \n",
    "                            (test_df.id == transactions.id) & (test_df.offer_chain == transactions.chain), \n",
    "                            \"left\") \\\n",
    "                          .select(test_df[\"id\"], \"offer_dept\", \"dept\", \"offer_company\", \"company\", \n",
    "                                  \"offer_brand\", \"brand\", \"offer_category\", \"category\") \\\n",
    "                          .withColumn(\"matchDeptCount\", F.expr(\"case when offer_dept = dept then 1 else 0 end\")) \\\n",
    "                          .withColumn(\"matchCategoryCount\", F.expr(\"case when offer_category = category then 1 else 0 end\")) \\\n",
    "                          .withColumn(\"matchCompanyCount\", F.expr(\"case when offer_company = company then 1 else 0 end\")) \\\n",
    "                          .withColumn(\"matchBrandCount\", F.expr(\"case when offer_brand = brand then 1 else 0 end\")) \\\n",
    "                          .groupBy(\"id\") \\\n",
    "                          .agg(F.sum(\"matchDeptCount\").alias(\"matchDeptCount\"),\n",
    "                               F.sum(\"matchCategoryCount\").alias(\"matchCategoryCount\"),\n",
    "                               F.sum(\"matchCompanyCount\").alias(\"matchCompanyCount\"),\n",
    "                               F.sum(\"matchBrandCount\").alias(\"matchBrandCount\"))"
   ]
  },
  {
   "cell_type": "code",
   "execution_count": 99,
   "metadata": {
    "collapsed": true
   },
   "outputs": [],
   "source": [
    "test_df = test_df.join(test_trans_agg, test_df.id == test_trans_agg.id, \"left\").drop(test_trans_agg.id)"
   ]
  },
  {
   "cell_type": "code",
   "execution_count": 100,
   "metadata": {
    "collapsed": false
   },
   "outputs": [
    {
     "name": "stdout",
     "output_type": "stream",
     "text": [
      "+-------+--------------+-----------+-------------+----------+----------+-----------+-----------+-------------+--------------------+------------------+-----+---------+--------------+------------------+-----------------+---------------+\n",
      "|  offer|offer_category|offer_brand|offer_company|offervalue|offer_dept|offer_chain|total_trans|total_returns|avg_purchasequantity|avg_purchaseamount|label|       id|matchDeptCount|matchCategoryCount|matchCompanyCount|matchBrandCount|\n",
      "+-------+--------------+-----------+-------------+----------+----------+-----------+-----------+-------------+--------------------+------------------+-----+---------+--------------+------------------+-----------------+---------------+\n",
      "|1197502|          3203|      13474|    106414464|      0.75|        32|         15|       1111|           26|       1.35397034045|      4.4854782917|    0| 93737740|             0|                 0|                0|              0|\n",
      "|1197502|          3203|      13474|    106414464|      0.75|        32|         14|       1111|           26|       1.35397034045|      4.4854782917|    0| 99752866|             0|                 0|                0|              0|\n",
      "|1208251|          2202|       3718|    104460040|       2.0|        22|          3|       1111|           26|       1.35397034045|      4.4854782917|    1|100012115|             0|                 0|                0|              0|\n",
      "|1208251|          2202|       3718|    104460040|       2.0|        22|          4|       1111|           26|       1.35397034045|      4.4854782917|    0|100787762|             0|                 0|                0|              0|\n",
      "|1208252|          2202|       3718|    104460040|       3.0|        22|         17|       1111|           26|       1.35397034045|      4.4854782917|    0|102987840|             0|                 0|                0|              0|\n",
      "|1197502|          3203|      13474|    106414464|      0.75|        32|         15|       1111|           26|       1.35397034045|      4.4854782917|    0|107029799|             0|                 0|                0|              0|\n",
      "|1197502|          3203|      13474|    106414464|      0.75|        32|         18|       1111|           26|       1.35397034045|      4.4854782917|    0|107134311|             0|                 0|                0|              0|\n",
      "|1197502|          3203|      13474|    106414464|      0.75|        32|          4|       1111|           26|       1.35397034045|      4.4854782917|    0|108645865|             0|                 0|                0|              0|\n",
      "|1197502|          3203|      13474|    106414464|      0.75|        32|         17|       1111|           26|       1.35397034045|      4.4854782917|    0|119057614|             0|                 0|                0|              0|\n",
      "|1197502|          3203|      13474|    106414464|      0.75|        32|         17|       1111|           26|       1.35397034045|      4.4854782917|    1|123853858|             0|                 0|                0|              0|\n",
      "|1197502|          3203|      13474|    106414464|      0.75|        32|         15|       1111|           26|       1.35397034045|      4.4854782917|    0|124630896|             0|                 0|                0|              0|\n",
      "|1197502|          3203|      13474|    106414464|      0.75|        32|          4|       1111|           26|       1.35397034045|      4.4854782917|    0|124657069|             0|                 0|                0|              0|\n",
      "|1197502|          3203|      13474|    106414464|      0.75|        32|          4|       1111|           26|       1.35397034045|      4.4854782917|    0|125304359|             0|                 0|                0|              0|\n",
      "|1208251|          2202|       3718|    104460040|       2.0|        22|         15|       1111|           26|       1.35397034045|      4.4854782917|    1|126331076|             0|                 0|                0|              0|\n",
      "|1204576|          5616|      15889|    104610040|       1.0|        56|         46|       1111|           26|       1.35397034045|      4.4854782917|    1|128612470|             0|                 0|                0|              0|\n",
      "|1200581|          1726|       7668|    104460040|      1.25|        17|         18|       1111|           26|       1.35397034045|      4.4854782917|    1|133254873|             0|                 0|                0|              0|\n",
      "|1200581|          1726|       7668|    104460040|      1.25|        17|         15|       1111|           26|       1.35397034045|      4.4854782917|    1|133356630|             0|                 0|                0|              0|\n",
      "|1197502|          3203|      13474|    106414464|      0.75|        32|         88|       1111|           26|       1.35397034045|      4.4854782917|    0|133683274|             0|                 0|                0|              0|\n",
      "|1204822|          5619|     102504|    107717272|       1.5|        56|         20|       1111|           26|       1.35397034045|      4.4854782917|    1|133953821|             0|                 0|                0|              0|\n",
      "|1197502|          3203|      13474|    106414464|      0.75|        32|         18|       1111|           26|       1.35397034045|      4.4854782917|    0|134016269|             0|                 0|                0|              0|\n",
      "+-------+--------------+-----------+-------------+----------+----------+-----------+-----------+-------------+--------------------+------------------+-----+---------+--------------+------------------+-----------------+---------------+\n",
      "only showing top 20 rows\n",
      "\n"
     ]
    }
   ],
   "source": [
    "train_df.show()"
   ]
  },
  {
   "cell_type": "code",
   "execution_count": 101,
   "metadata": {
    "collapsed": false
   },
   "outputs": [
    {
     "name": "stdout",
     "output_type": "stream",
     "text": [
      "+-------+--------------+-----------+-------------+----------+----------+-----------+-----------+-------------+--------------------+------------------+---------+--------------+------------------+-----------------+---------------+\n",
      "|  offer|offer_category|offer_brand|offer_company|offervalue|offer_dept|offer_chain|total_trans|total_returns|avg_purchasequantity|avg_purchaseamount|       id|matchDeptCount|matchCategoryCount|matchCompanyCount|matchBrandCount|\n",
      "+-------+--------------+-----------+-------------+----------+----------+-----------+-----------+-------------+--------------------+------------------+---------+--------------+------------------+-----------------+---------------+\n",
      "|1230218|           706|      26189|    104127141|       1.0|         7|          4|        350|            8|                1.34|3.1511428571428635| 18470775|             0|                 0|                1|              1|\n",
      "|1221658|          7205|       4294|    103700030|       3.0|        72|         18|       1111|           26|       1.35397034045|      4.4854782917| 86880128|             0|                 0|                0|              0|\n",
      "|1190530|          9115|      93904|    108500080|       5.0|        91|         15|       1111|           26|       1.35397034045|      4.4854782917| 87553372|             0|                 0|                0|              0|\n",
      "|1221663|          7205|       4294|    103700030|       1.5|        72|         20|       1111|           26|       1.35397034045|      4.4854782917| 98483695|             0|                 0|                0|              0|\n",
      "|1230218|           706|      26189|    104127141|       1.0|         7|         17|       1111|           26|       1.35397034045|      4.4854782917|101001592|             0|                 0|                0|              0|\n",
      "|1221663|          7205|       4294|    103700030|       1.5|        72|         17|       1111|           26|       1.35397034045|      4.4854782917|101266464|             0|                 0|                0|              0|\n",
      "|1213242|          5824|      26456|    105190050|       2.0|        58|         18|       1111|           26|       1.35397034045|      4.4854782917|102753162|             0|                 0|                0|              0|\n",
      "|1230218|           706|      26189|    104127141|       1.0|         7|         18|       1111|           26|       1.35397034045|      4.4854782917|103115404|             0|                 0|                0|              0|\n",
      "|1221658|          7205|       4294|    103700030|       3.0|        72|         15|       1111|           26|       1.35397034045|      4.4854782917|103361664|             0|                 0|                0|              0|\n",
      "|1221658|          7205|       4294|    103700030|       3.0|        72|         18|       1111|           26|       1.35397034045|      4.4854782917|103792119|             0|                 0|                0|              0|\n",
      "|1213242|          5824|      26456|    105190050|       2.0|        58|         95|       1111|           26|       1.35397034045|      4.4854782917|104943991|             0|                 0|                0|              0|\n",
      "|1221658|          7205|       4294|    103700030|       3.0|        72|         17|       1111|           26|       1.35397034045|      4.4854782917|105318972|             0|                 0|                0|              0|\n",
      "|1219900|           799|      17286|   1076211171|       1.5|         7|         15|       1111|           26|       1.35397034045|      4.4854782917|105834478|             0|                 0|                0|              0|\n",
      "|1221663|          7205|       4294|    103700030|       1.5|        72|          4|       1111|           26|       1.35397034045|      4.4854782917|106180503|             0|                 0|                0|              0|\n",
      "|1221663|          7205|       4294|    103700030|       1.5|        72|          4|       1111|           26|       1.35397034045|      4.4854782917|108398726|             0|                 0|                0|              0|\n",
      "|1213242|          5824|      26456|    105190050|       2.0|        58|         18|       1111|           26|       1.35397034045|      4.4854782917|111985914|             0|                 0|                0|              0|\n",
      "|1190530|          9115|      93904|    108500080|       5.0|        91|          4|       1111|           26|       1.35397034045|      4.4854782917|112364053|             0|                 0|                0|              0|\n",
      "|1213242|          5824|      26456|    105190050|       2.0|        58|         95|       1111|           26|       1.35397034045|      4.4854782917|112987393|             0|                 0|                0|              0|\n",
      "|1221663|          7205|       4294|    103700030|       1.5|        72|         17|       1111|           26|       1.35397034045|      4.4854782917|113446119|             0|                 0|                0|              0|\n",
      "|1221658|          7205|       4294|    103700030|       3.0|        72|         95|       1111|           26|       1.35397034045|      4.4854782917|120949733|             0|                 0|                0|              0|\n",
      "+-------+--------------+-----------+-------------+----------+----------+-----------+-----------+-------------+--------------------+------------------+---------+--------------+------------------+-----------------+---------------+\n",
      "only showing top 20 rows\n",
      "\n"
     ]
    }
   ],
   "source": [
    "test_df.show()"
   ]
  },
  {
   "cell_type": "markdown",
   "metadata": {},
   "source": [
    "\n",
    "# Create pipeline"
   ]
  },
  {
   "cell_type": "code",
   "execution_count": 102,
   "metadata": {
    "collapsed": true
   },
   "outputs": [],
   "source": [
    "# Get all the offers, categories, brands and companies from both training and test\n",
    "# Then create a StringIndexer to map categorical values to numeric labels\n",
    "cols_to_index = ['offer', 'offer_category', 'offer_brand', 'offer_company']\n",
    "indexers = []\n",
    "for col in cols_to_index:\n",
    "    union_df = train_df.select(col).union(test_df.select(col))\n",
    "    indexers.append(StringIndexer().setInputCol(col).setOutputCol(col+'idx').fit(union_df))"
   ]
  },
  {
   "cell_type": "code",
   "execution_count": 103,
   "metadata": {
    "collapsed": false
   },
   "outputs": [],
   "source": [
    "# One-hot-encoding of categorical variables\n",
    "encoders = []\n",
    "for col in cols_to_index:\n",
    "    encoders.append(OneHotEncoder().setInputCol(col+'idx').setOutputCol(col+'_encoded').setDropLast(False))"
   ]
  },
  {
   "cell_type": "code",
   "execution_count": 104,
   "metadata": {
    "collapsed": false
   },
   "outputs": [],
   "source": [
    "# Assemble features\n",
    "inputCols = ['offervalue', 'offer_encoded', 'offer_category_encoded', 'offer_brand_encoded', 'offer_company_encoded', \n",
    "             'total_trans', 'total_returns', 'avg_purchasequantity', 'avg_purchaseamount',\n",
    "             'matchDeptCount', 'matchCategoryCount', 'matchCompanyCount', 'matchBrandCount']\n",
    "assembler = VectorAssembler(inputCols=inputCols, outputCol='features')"
   ]
  },
  {
   "cell_type": "code",
   "execution_count": 105,
   "metadata": {
    "collapsed": true
   },
   "outputs": [],
   "source": [
    "# Logistic regression\n",
    "lr = LogisticRegression(maxIter=10, standardization=True)"
   ]
  },
  {
   "cell_type": "code",
   "execution_count": 106,
   "metadata": {
    "collapsed": true
   },
   "outputs": [],
   "source": [
    "# Pipeline\n",
    "stages = indexers + encoders + [assembler, lr]\n",
    "pipeline = Pipeline(stages=stages)"
   ]
  },
  {
   "cell_type": "markdown",
   "metadata": {},
   "source": [
    "# Cross-validation"
   ]
  },
  {
   "cell_type": "code",
   "execution_count": 107,
   "metadata": {
    "collapsed": true
   },
   "outputs": [],
   "source": [
    "regularization = [0.0001, 0.001]   # for testing purposes\n",
    "#regularization = [0.00001, 0.00005, 0.0001, 0.0005, 0.001, 0.005, 0.01, 0.05, 0.1, 0.5]\n",
    "kfolds = 2\n",
    "\n",
    "paramGrid = ParamGridBuilder() \\\n",
    "    .addGrid(lr.regParam, regularization) \\\n",
    "    .build()\n",
    "\n",
    "crossval = CrossValidator(estimator=pipeline,\n",
    "                          estimatorParamMaps=paramGrid,\n",
    "                          evaluator=BinaryClassificationEvaluator(),\n",
    "                          numFolds=kfolds)  # use 3+ folds in practice"
   ]
  },
  {
   "cell_type": "code",
   "execution_count": 108,
   "metadata": {
    "collapsed": false
   },
   "outputs": [
    {
     "data": {
      "text/plain": [
       "DataFrame[offer: bigint, offer_category: bigint, offer_brand: bigint, offer_company: bigint, offervalue: double, offer_dept: bigint, offer_chain: bigint, total_trans: bigint, total_returns: bigint, avg_purchasequantity: double, avg_purchaseamount: double, id: bigint, matchDeptCount: bigint, matchCategoryCount: bigint, matchCompanyCount: bigint, matchBrandCount: bigint]"
      ]
     },
     "execution_count": 108,
     "metadata": {},
     "output_type": "execute_result"
    }
   ],
   "source": [
    "train_df.cache()\n",
    "test_df.cache()"
   ]
  },
  {
   "cell_type": "code",
   "execution_count": 109,
   "metadata": {
    "collapsed": false
   },
   "outputs": [],
   "source": [
    "cvModel = crossval.fit(train_df)"
   ]
  },
  {
   "cell_type": "code",
   "execution_count": 110,
   "metadata": {
    "collapsed": false
   },
   "outputs": [
    {
     "name": "stdout",
     "output_type": "stream",
     "text": [
      "Coefficients: [-0.042944765501,-0.120829277849,0.0,0.0,0.0,0.211435283644,0.063702827612,0.192685468541,0.0,-0.240028019341,0.0160401214384,0.0,0.12790088634,-0.198890016126,0.282361985977,-0.152731762217,0.0,0.0,0.0399233959859,0.0,0.0,0.0810215871105,0.0,-0.219623550196,-0.123040510053,0.0,-0.109591150214,-0.0843166415836,-0.0661706964977,0.0,0.0,-0.127941743264,-0.0986591356709,-0.12193404927,-0.192676463909,-0.0899420472053,-0.0705863984305,-0.0473132395618,0.0,-0.120829277849,0.0,0.236504958692,0.211435283644,0.0613480473513,-0.232048671675,0.0,0.0,0.117858757622,0.0160401214384,-0.0873034506225,-0.149546005305,-0.118095237047,0.0,-0.213903964144,0.0,0.0,-0.0986591356709,-0.0473132395618,0.0,-0.120829277849,0.0,0.211435283644,0.0613480473513,0.192685468541,-0.232048671675,0.0,0.0,-0.178738832976,0.117858757622,0.0160401214384,-0.0873034506225,0.282361985977,-0.118095237047,0.0,0.0,0.0,-0.0986591356709,0.0,-0.120829277849,-0.0329640371743,0.0,0.211435283644,0.192685468541,-0.232048671675,0.0,0.0,0.117858757622,0.0160401214384,-0.0873034506225,0.282361985977,-0.118095237047,0.0,0.0,0.0,-0.0986591356709,7.60562861294e-05,-0.00163846669093,-0.296428690448,0.0746506216203,0.00247094486743,0.000336145211883,0.00843345113298,0.00183633115453]\n",
      "Intercept: -0.987578506928\n"
     ]
    }
   ],
   "source": [
    "# Print the coefficients and intercept for logistic regression\n",
    "print(\"Coefficients: \" + str(cvModel.bestModel.stages[-1].coefficients))\n",
    "print(\"Intercept: \" + str(cvModel.bestModel.stages[-1].intercept))"
   ]
  },
  {
   "cell_type": "markdown",
   "metadata": {},
   "source": [
    "# Predicting on training data "
   ]
  },
  {
   "cell_type": "code",
   "execution_count": 111,
   "metadata": {
    "collapsed": true
   },
   "outputs": [],
   "source": [
    "train_pred = cvModel.transform(train_df)"
   ]
  },
  {
   "cell_type": "code",
   "execution_count": 112,
   "metadata": {
    "collapsed": false
   },
   "outputs": [
    {
     "name": "stdout",
     "output_type": "stream",
     "text": [
      "+--------------------+----------+\n",
      "|         probability|prediction|\n",
      "+--------------------+----------+\n",
      "|[0.82167214173382...|       0.0|\n",
      "|[0.82167214173382...|       0.0|\n",
      "|[0.72003730581269...|       0.0|\n",
      "|[0.72003730581269...|       0.0|\n",
      "|[0.73328834346035...|       0.0|\n",
      "|[0.82167214173382...|       0.0|\n",
      "|[0.82167214173382...|       0.0|\n",
      "|[0.82167214173382...|       0.0|\n",
      "|[0.82167214173382...|       0.0|\n",
      "|[0.82167214173382...|       0.0|\n",
      "|[0.82167214173382...|       0.0|\n",
      "|[0.82167214173382...|       0.0|\n",
      "|[0.82167214173382...|       0.0|\n",
      "|[0.72003730581269...|       0.0|\n",
      "|[0.72928071653364...|       0.0|\n",
      "|[0.82918378511377...|       0.0|\n",
      "|[0.82918378511377...|       0.0|\n",
      "|[0.82167214173382...|       0.0|\n",
      "|[0.82353536839685...|       0.0|\n",
      "|[0.82167214173382...|       0.0|\n",
      "+--------------------+----------+\n",
      "only showing top 20 rows\n",
      "\n"
     ]
    }
   ],
   "source": [
    "train_pred.select('probability', 'prediction').show()"
   ]
  },
  {
   "cell_type": "markdown",
   "metadata": {},
   "source": [
    "# Predicting on test data"
   ]
  },
  {
   "cell_type": "code",
   "execution_count": null,
   "metadata": {
    "collapsed": true
   },
   "outputs": [],
   "source": [
    "test_pred = cvModel.transform(test_df)"
   ]
  },
  {
   "cell_type": "code",
   "execution_count": null,
   "metadata": {
    "collapsed": false
   },
   "outputs": [],
   "source": [
    "test_pred.select('probability', 'prediction').show()"
   ]
  },
  {
   "cell_type": "code",
   "execution_count": null,
   "metadata": {
    "collapsed": false
   },
   "outputs": [],
   "source": [
    "test_id = test_df.select('id').toPandas()\n",
    "test_prob = test_pred.select('probability').toPandas()"
   ]
  },
  {
   "cell_type": "code",
   "execution_count": null,
   "metadata": {
    "collapsed": false
   },
   "outputs": [],
   "source": [
    "# I didn't know how to access the vector inside the probability column.\n",
    "# To work around this, I looped through the probability column and used the indexing operations to pull out\n",
    "# the individual probabilities.\n",
    "prob = []\n",
    "for i in range(test_prob.shape[0]):\n",
    "    prob.append(test_prob['probability'][i][1])\n",
    "test_prob['repeatProbability'] = prob"
   ]
  },
  {
   "cell_type": "code",
   "execution_count": null,
   "metadata": {
    "collapsed": false
   },
   "outputs": [],
   "source": [
    "test_final_pred = pd.merge(test_id, test_prob, left_index=True, right_index=True)\n",
    "test_final_pred.drop('probability', 1, inplace=True)"
   ]
  },
  {
   "cell_type": "code",
   "execution_count": null,
   "metadata": {
    "collapsed": false
   },
   "outputs": [],
   "source": [
    "test_final_pred.head()"
   ]
  },
  {
   "cell_type": "code",
   "execution_count": null,
   "metadata": {
    "collapsed": false
   },
   "outputs": [],
   "source": [
    "test_final_pred['repeatProbability'].describe()"
   ]
  },
  {
   "cell_type": "code",
   "execution_count": null,
   "metadata": {
    "collapsed": true
   },
   "outputs": [],
   "source": [
    "# Write the test file to csv\n",
    "test_final_pred.to_csv('submission.csv', index=False)"
   ]
  },
  {
   "cell_type": "code",
   "execution_count": null,
   "metadata": {
    "collapsed": true
   },
   "outputs": [],
   "source": []
  }
 ],
 "metadata": {
  "anaconda-cloud": {},
  "kernelspec": {
   "display_name": "Python [conda root]",
   "language": "python",
   "name": "conda-root-py"
  },
  "language_info": {
   "codemirror_mode": {
    "name": "ipython",
    "version": 2
   },
   "file_extension": ".py",
   "mimetype": "text/x-python",
   "name": "python",
   "nbconvert_exporter": "python",
   "pygments_lexer": "ipython2",
   "version": "2.7.12"
  }
 },
 "nbformat": 4,
 "nbformat_minor": 1
}
