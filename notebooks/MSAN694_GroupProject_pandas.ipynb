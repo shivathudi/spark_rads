{
 "cells": [
  {
   "cell_type": "code",
   "execution_count": 2,
   "metadata": {
    "collapsed": true
   },
   "outputs": [],
   "source": [
    "import pandas as pd\n",
    "import numpy as np\n",
    "from sklearn.linear_model import LogisticRegression\n",
    "from sklearn.model_selection import KFold, cross_val_score"
   ]
  },
  {
   "cell_type": "markdown",
   "metadata": {},
   "source": [
    "# Import transaction, offers, train and test data"
   ]
  },
  {
   "cell_type": "code",
   "execution_count": 3,
   "metadata": {
    "collapsed": false
   },
   "outputs": [],
   "source": [
    "chunksize = 10 ** 6\n",
    "transactions = pd.read_csv(\"transactions.csv\", header=0, chunksize=chunksize)\n",
    "transactions = pd.DataFrame(transactions.next())\n",
    "\n",
    "offers = pd.read_csv(\"offers.csv\", header=0)\n",
    "train = pd.read_csv(\"trainHistory.csv\", header=0)\n",
    "train[\"repeater\"] = train.repeater.apply(lambda x: 1 if x == \"t\" else 0)\n",
    "train = train.merge(offers, how=\"inner\", on=\"offer\")\n",
    "train = train.drop([\"chain\", \"brand\", \"offer\", \"repeattrips\", \"offerdate\", \"market\", \"category\", \"company\"], axis=1)\n",
    "\n",
    "test = pd.read_csv(\"testHistory.csv\", header=0)\n",
    "test = test.merge(offers, how=\"inner\", on=\"offer\")\n",
    "test = test.drop([\"chain\", \"brand\", \"offer\", \"offerdate\", \"market\", \"category\", \"company\"], axis=1)"
   ]
  },
  {
   "cell_type": "markdown",
   "metadata": {},
   "source": [
    "# Features generation, super rough and course"
   ]
  },
  {
   "cell_type": "code",
   "execution_count": 4,
   "metadata": {
    "collapsed": false
   },
   "outputs": [],
   "source": [
    "#Total counts\n",
    "gross_amount = transactions.groupby(by=\"id\").id.count().to_frame(name=\"total\")\n",
    "\n",
    "#Chain\n",
    "chain = transactions[[\"id\", \"chain\"]]\n",
    "chain = pd.get_dummies(chain, columns=[\"chain\"])\n",
    "chain = chain.groupby(['id']).sum()\n",
    "chain = chain.idxmax(axis=1)\n",
    "chain = chain.apply(lambda x : x.strip(\"chain_\"))\n",
    "chain = chain.to_frame(name=\"chain\")\n",
    "\n",
    "#Dept\n",
    "dept = transactions[[\"id\", \"dept\"]]\n",
    "dept = pd.get_dummies(dept, columns=[\"dept\"])\n",
    "dept = dept.groupby(['id']).sum()\n",
    "dept = dept.idxmax(axis=1)\n",
    "dept = dept.apply(lambda x : x.strip(\"dept_\"))\n",
    "dept = dept.to_frame(name=\"dept\")\n",
    "\n",
    "#Company\n",
    "comp = transactions.groupby(by=\"id\").company.unique()\n",
    "comp = comp.apply(lambda x : len(x)).to_frame(name=\"comp\")\n",
    "\n",
    "#Brand\n",
    "brand = transactions.groupby(by=\"id\").brand.unique()\n",
    "brand = brand.apply(lambda x : len(x)).to_frame(name=\"brand\")\n",
    "\n",
    "#pquantity\n",
    "pquantity = transactions.groupby(by=\"id\").purchasequantity.mean().to_frame(name=\"pquantity\")\n",
    "\n",
    "#purchaseamount\n",
    "pamount = transactions.groupby(by=\"id\").purchaseamount.mean().to_frame(name=\"pamount\")"
   ]
  },
  {
   "cell_type": "markdown",
   "metadata": {},
   "source": [
    "# Combine features with train an"
   ]
  },
  {
   "cell_type": "code",
   "execution_count": 5,
   "metadata": {
    "collapsed": true
   },
   "outputs": [],
   "source": [
    "trans_summary = gross_amount.merge(chain, left_index=True, right_index=True).merge(dept, left_index=True, right_index=True).merge(comp, left_index=True, right_index=True).merge(brand, left_index=True, right_index=True).merge(pquantity, left_index=True, right_index=True).merge(pamount, left_index=True, right_index=True)\n",
    "trans_summary[\"id\"] = trans_summary.index\n",
    "\n",
    "train = train.merge(trans_summary, how=\"inner\", on=\"id\")\n",
    "test = test.merge(trans_summary, how=\"inner\", on=\"id\")"
   ]
  },
  {
   "cell_type": "code",
   "execution_count": 6,
   "metadata": {
    "collapsed": false
   },
   "outputs": [
    {
     "data": {
      "text/html": [
       "<div>\n",
       "<table border=\"1\" class=\"dataframe\">\n",
       "  <thead>\n",
       "    <tr style=\"text-align: right;\">\n",
       "      <th></th>\n",
       "      <th>id</th>\n",
       "      <th>repeater</th>\n",
       "      <th>quantity</th>\n",
       "      <th>offervalue</th>\n",
       "      <th>total</th>\n",
       "      <th>chain</th>\n",
       "      <th>dept</th>\n",
       "      <th>comp</th>\n",
       "      <th>brand</th>\n",
       "      <th>pquantity</th>\n",
       "      <th>pamount</th>\n",
       "    </tr>\n",
       "  </thead>\n",
       "  <tbody>\n",
       "    <tr>\n",
       "      <th>0</th>\n",
       "      <td>86246</td>\n",
       "      <td>1</td>\n",
       "      <td>1</td>\n",
       "      <td>2.0</td>\n",
       "      <td>12609</td>\n",
       "      <td>205</td>\n",
       "      <td>9</td>\n",
       "      <td>954</td>\n",
       "      <td>1319</td>\n",
       "      <td>1.374653</td>\n",
       "      <td>4.189715</td>\n",
       "    </tr>\n",
       "    <tr>\n",
       "      <th>1</th>\n",
       "      <td>15753725</td>\n",
       "      <td>0</td>\n",
       "      <td>1</td>\n",
       "      <td>2.0</td>\n",
       "      <td>1820</td>\n",
       "      <td>17</td>\n",
       "      <td>51</td>\n",
       "      <td>267</td>\n",
       "      <td>322</td>\n",
       "      <td>1.855495</td>\n",
       "      <td>5.168456</td>\n",
       "    </tr>\n",
       "    <tr>\n",
       "      <th>2</th>\n",
       "      <td>16535563</td>\n",
       "      <td>1</td>\n",
       "      <td>1</td>\n",
       "      <td>2.0</td>\n",
       "      <td>1012</td>\n",
       "      <td>4</td>\n",
       "      <td>63</td>\n",
       "      <td>146</td>\n",
       "      <td>176</td>\n",
       "      <td>1.571146</td>\n",
       "      <td>6.299022</td>\n",
       "    </tr>\n",
       "    <tr>\n",
       "      <th>3</th>\n",
       "      <td>18259179</td>\n",
       "      <td>0</td>\n",
       "      <td>1</td>\n",
       "      <td>2.0</td>\n",
       "      <td>197</td>\n",
       "      <td>3</td>\n",
       "      <td>26</td>\n",
       "      <td>92</td>\n",
       "      <td>99</td>\n",
       "      <td>1.213198</td>\n",
       "      <td>4.636548</td>\n",
       "    </tr>\n",
       "    <tr>\n",
       "      <th>4</th>\n",
       "      <td>21024070</td>\n",
       "      <td>1</td>\n",
       "      <td>1</td>\n",
       "      <td>2.0</td>\n",
       "      <td>2034</td>\n",
       "      <td>15</td>\n",
       "      <td>99</td>\n",
       "      <td>326</td>\n",
       "      <td>409</td>\n",
       "      <td>1.176008</td>\n",
       "      <td>3.747439</td>\n",
       "    </tr>\n",
       "    <tr>\n",
       "      <th>5</th>\n",
       "      <td>21603296</td>\n",
       "      <td>0</td>\n",
       "      <td>1</td>\n",
       "      <td>2.0</td>\n",
       "      <td>703</td>\n",
       "      <td>4</td>\n",
       "      <td>5</td>\n",
       "      <td>174</td>\n",
       "      <td>224</td>\n",
       "      <td>1.644381</td>\n",
       "      <td>5.581152</td>\n",
       "    </tr>\n",
       "    <tr>\n",
       "      <th>6</th>\n",
       "      <td>23791057</td>\n",
       "      <td>1</td>\n",
       "      <td>1</td>\n",
       "      <td>2.0</td>\n",
       "      <td>1366</td>\n",
       "      <td>95</td>\n",
       "      <td>9</td>\n",
       "      <td>251</td>\n",
       "      <td>349</td>\n",
       "      <td>1.590776</td>\n",
       "      <td>5.444283</td>\n",
       "    </tr>\n",
       "    <tr>\n",
       "      <th>7</th>\n",
       "      <td>48464291</td>\n",
       "      <td>0</td>\n",
       "      <td>1</td>\n",
       "      <td>2.0</td>\n",
       "      <td>1049</td>\n",
       "      <td>18</td>\n",
       "      <td>99</td>\n",
       "      <td>160</td>\n",
       "      <td>176</td>\n",
       "      <td>1.232602</td>\n",
       "      <td>3.573346</td>\n",
       "    </tr>\n",
       "    <tr>\n",
       "      <th>8</th>\n",
       "      <td>54625209</td>\n",
       "      <td>0</td>\n",
       "      <td>1</td>\n",
       "      <td>2.0</td>\n",
       "      <td>1716</td>\n",
       "      <td>4</td>\n",
       "      <td>9</td>\n",
       "      <td>254</td>\n",
       "      <td>276</td>\n",
       "      <td>1.133450</td>\n",
       "      <td>3.213287</td>\n",
       "    </tr>\n",
       "    <tr>\n",
       "      <th>9</th>\n",
       "      <td>55882738</td>\n",
       "      <td>1</td>\n",
       "      <td>1</td>\n",
       "      <td>2.0</td>\n",
       "      <td>1033</td>\n",
       "      <td>4</td>\n",
       "      <td>63</td>\n",
       "      <td>166</td>\n",
       "      <td>195</td>\n",
       "      <td>1.339787</td>\n",
       "      <td>5.686302</td>\n",
       "    </tr>\n",
       "  </tbody>\n",
       "</table>\n",
       "</div>"
      ],
      "text/plain": [
       "         id  repeater  quantity  offervalue  total chain dept  comp  brand  \\\n",
       "0     86246         1         1         2.0  12609   205    9   954   1319   \n",
       "1  15753725         0         1         2.0   1820    17   51   267    322   \n",
       "2  16535563         1         1         2.0   1012     4   63   146    176   \n",
       "3  18259179         0         1         2.0    197     3   26    92     99   \n",
       "4  21024070         1         1         2.0   2034    15   99   326    409   \n",
       "5  21603296         0         1         2.0    703     4    5   174    224   \n",
       "6  23791057         1         1         2.0   1366    95    9   251    349   \n",
       "7  48464291         0         1         2.0   1049    18   99   160    176   \n",
       "8  54625209         0         1         2.0   1716     4    9   254    276   \n",
       "9  55882738         1         1         2.0   1033     4   63   166    195   \n",
       "\n",
       "   pquantity   pamount  \n",
       "0   1.374653  4.189715  \n",
       "1   1.855495  5.168456  \n",
       "2   1.571146  6.299022  \n",
       "3   1.213198  4.636548  \n",
       "4   1.176008  3.747439  \n",
       "5   1.644381  5.581152  \n",
       "6   1.590776  5.444283  \n",
       "7   1.232602  3.573346  \n",
       "8   1.133450  3.213287  \n",
       "9   1.339787  5.686302  "
      ]
     },
     "execution_count": 6,
     "metadata": {},
     "output_type": "execute_result"
    }
   ],
   "source": [
    "train.head(10)"
   ]
  },
  {
   "cell_type": "markdown",
   "metadata": {},
   "source": [
    "# Super simpilfied Logistic regression lol (cross_val)"
   ]
  },
  {
   "cell_type": "code",
   "execution_count": 7,
   "metadata": {
    "collapsed": false
   },
   "outputs": [
    {
     "name": "stdout",
     "output_type": "stream",
     "text": [
      "Cross-Val:  0.77\n"
     ]
    }
   ],
   "source": [
    "algo = LogisticRegression()\n",
    "algo.fit(train.iloc[:,2:],train.iloc[:,1])\n",
    "hyp = algo.predict(test.iloc[:,1:])\n",
    "kfold = KFold(n_splits=10, shuffle=True, random_state=100)\n",
    "score = cross_val_score(algo, train.iloc[:,2:], train.iloc[:,1], cv=kfold, scoring=\"accuracy\")\n",
    "print \"Cross-Val: \", np.mean(score)"
   ]
  },
  {
   "cell_type": "code",
   "execution_count": null,
   "metadata": {
    "collapsed": true
   },
   "outputs": [],
   "source": []
  }
 ],
 "metadata": {
  "kernelspec": {
   "display_name": "Python 2",
   "language": "python",
   "name": "python2"
  },
  "language_info": {
   "codemirror_mode": {
    "name": "ipython",
    "version": 2
   },
   "file_extension": ".py",
   "mimetype": "text/x-python",
   "name": "python",
   "nbconvert_exporter": "python",
   "pygments_lexer": "ipython2",
   "version": "2.7.12"
  }
 },
 "nbformat": 4,
 "nbformat_minor": 1
}
